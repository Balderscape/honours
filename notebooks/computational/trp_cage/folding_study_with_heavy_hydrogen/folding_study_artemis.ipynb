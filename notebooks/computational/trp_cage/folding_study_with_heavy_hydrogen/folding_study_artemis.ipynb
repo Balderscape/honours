{
 "cells": [
  {
   "cell_type": "markdown",
   "metadata": {
    "deletable": true,
    "editable": true
   },
   "source": [
    "# MD Folding Simulation of the TRP Cage Protein with Heavy-H (Artemis)\n",
    "\n",
    "\n"
   ]
  },
  {
   "cell_type": "code",
   "execution_count": 5,
   "metadata": {
    "collapsed": false,
    "deletable": true,
    "editable": true
   },
   "outputs": [
    {
     "name": "stdout",
     "output_type": "stream",
     "text": [
      "/project/RDS-FSC-MDPF-RW/trp_cage/folding_study\n"
     ]
    }
   ],
   "source": [
    "cd /project/MDPF/trp_cage/folding_study"
   ]
  },
  {
   "cell_type": "code",
   "execution_count": 14,
   "metadata": {
    "collapsed": false,
    "deletable": true,
    "editable": true
   },
   "outputs": [
    {
     "name": "stdout",
     "output_type": "stream",
     "text": [
      "Overwriting nvt.job\n"
     ]
    }
   ],
   "source": [
    "%%file nvt.job\n",
    "#!/bin/bash\n",
    "#PBS -N trp_cage_nvt\n",
    "#PBS -P MDPF\n",
    "\n",
    "#PBS -l select=2:ncpus=6:mpiprocs=1:mem=32GB:ngpus=0\n",
    "#PBS -l walltime=0:20:0\n",
    "#PBS -o trp_cage_nvt.log\n",
    "\n",
    "module load intel-mpi \n",
    "module load gromacs/2016.2-intel-mpi-gpu\n",
    "cd $PBS_O_WORKDIR\n",
    "cat ${PBS_NODEFILE} > nodes.txt\n",
    " \n",
    "mpirun -np 2 gmx_mpi mdrun -v -ntomp 6 -deffnm nvt "
   ]
  },
  {
   "cell_type": "code",
   "execution_count": 6,
   "metadata": {
    "collapsed": false,
    "deletable": true,
    "editable": true
   },
   "outputs": [
    {
     "name": "stdout",
     "output_type": "stream",
     "text": [
      "total 10689048\r\n",
      "drwxr-sr-x 2 psol3692 RDS-FSC-MDPF-RW       12288 Mar 11 23:23 \u001b[0m\u001b[01;34m.\u001b[0m/\r\n",
      "drwxr-sr-x 3 psol3692 RDS-FSC-MDPF-RW        4096 Mar 11 00:18 \u001b[01;34m..\u001b[0m/\r\n",
      "-rw------- 1 psol3692 RDS-FSC-MDPF-RW    64499712 Mar 11 01:34 core.10149\r\n",
      "-rw------- 1 psol3692 RDS-FSC-MDPF-RW    73682944 Mar 11 01:30 core.6737\r\n",
      "-rw-r--r-- 1 psol3692 RDS-FSC-MDPF-RW      980100 Mar 11 01:38 md_0_1.cpt\r\n",
      "-rw-r--r-- 1 psol3692 RDS-FSC-MDPF-RW        8052 Mar 11 01:38 md_0_1.edr\r\n",
      "-rw-r--r-- 1 psol3692 RDS-FSC-MDPF-RW     2811666 Mar 11 01:38 md_0_1.gro\r\n",
      "-rw-r--r-- 1 psol3692 RDS-FSC-MDPF-RW         397 Mar 11 01:35 md_0_1.job\r\n",
      "-rw-r--r-- 1 psol3692 RDS-FSC-MDPF-RW       30616 Mar 11 01:38 md_0_1.log\r\n",
      "-rw-r--r-- 1 psol3692 RDS-FSC-MDPF-RW     1239700 Mar 11 01:35 md_0_1.tpr\r\n",
      "-rw-r--r-- 1 psol3692 RDS-FSC-MDPF-RW    10758792 Mar 11 01:38 md_0_1.trr\r\n",
      "-rw-r--r-- 1 psol3692 RDS-FSC-MDPF-RW     1634724 Mar 11 01:38 md_0_1.xtc\r\n",
      "-rw-r--r-- 1 psol3692 RDS-FSC-MDPF-RW      980100 Mar 11 01:38 md_0_2.cpt\r\n",
      "-rw-r--r-- 1 psol3692 RDS-FSC-MDPF-RW        8052 Mar 11 01:38 md_0_2.edr\r\n",
      "-rw-r--r-- 1 psol3692 RDS-FSC-MDPF-RW     2811666 Mar 11 01:38 md_0_2.gro\r\n",
      "-rw-r--r-- 1 psol3692 RDS-FSC-MDPF-RW         396 Mar 11 01:36 md_0_2.job\r\n",
      "-rw-r--r-- 1 psol3692 RDS-FSC-MDPF-RW       30896 Mar 11 01:38 md_0_2.log\r\n",
      "-rw-r--r-- 1 psol3692 RDS-FSC-MDPF-RW     1239700 Mar 11 01:36 md_0_2.tpr\r\n",
      "-rw-r--r-- 1 psol3692 RDS-FSC-MDPF-RW    10758792 Mar 11 01:38 md_0_2.trr\r\n",
      "-rw-r--r-- 1 psol3692 RDS-FSC-MDPF-RW     1634688 Mar 11 01:38 md_0_2.xtc\r\n",
      "-rw-r--r-- 1 psol3692 RDS-FSC-MDPF-RW      980100 Mar 11 01:40 md_0_3.cpt\r\n",
      "-rw-r--r-- 1 psol3692 RDS-FSC-MDPF-RW        8052 Mar 11 01:40 md_0_3.edr\r\n",
      "-rw-r--r-- 1 psol3692 RDS-FSC-MDPF-RW     2811666 Mar 11 01:40 md_0_3.gro\r\n",
      "-rw-r--r-- 1 psol3692 RDS-FSC-MDPF-RW         398 Mar 11 01:36 md_0_3.job\r\n",
      "-rw-r--r-- 1 psol3692 RDS-FSC-MDPF-RW       31731 Mar 11 01:40 md_0_3.log\r\n",
      "-rw-r--r-- 1 psol3692 RDS-FSC-MDPF-RW     1239700 Mar 11 01:38 md_0_3.tpr\r\n",
      "-rw-r--r-- 1 psol3692 RDS-FSC-MDPF-RW    10758792 Mar 11 01:40 md_0_3.trr\r\n",
      "-rw-r--r-- 1 psol3692 RDS-FSC-MDPF-RW     1634952 Mar 11 01:40 md_0_3.xtc\r\n",
      "-rw-r--r-- 1 psol3692 RDS-FSC-MDPF-RW      980100 Mar 11 01:42 md_0_4.cpt\r\n",
      "-rw-r--r-- 1 psol3692 RDS-FSC-MDPF-RW        8052 Mar 11 01:42 md_0_4.edr\r\n",
      "-rw-r--r-- 1 psol3692 RDS-FSC-MDPF-RW     2811666 Mar 11 01:42 md_0_4.gro\r\n",
      "-rw-r--r-- 1 psol3692 RDS-FSC-MDPF-RW         398 Mar 11 01:39 md_0_4.job\r\n",
      "-rw-r--r-- 1 psol3692 RDS-FSC-MDPF-RW       30836 Mar 11 01:42 md_0_4.log\r\n",
      "-rw-r--r-- 1 psol3692 RDS-FSC-MDPF-RW     1239700 Mar 11 01:40 md_0_4.tpr\r\n",
      "-rw-r--r-- 1 psol3692 RDS-FSC-MDPF-RW    10758792 Mar 11 01:42 md_0_4.trr\r\n",
      "-rw-r--r-- 1 psol3692 RDS-FSC-MDPF-RW     1634592 Mar 11 01:42 md_0_4.xtc\r\n",
      "-rw-r--r-- 1 psol3692 RDS-FSC-MDPF-RW      980100 Mar 11 01:46 md_0_5.cpt\r\n",
      "-rw-r--r-- 1 psol3692 RDS-FSC-MDPF-RW        8052 Mar 11 01:46 md_0_5.edr\r\n",
      "-rw-r--r-- 1 psol3692 RDS-FSC-MDPF-RW     2811666 Mar 11 01:46 md_0_5.gro\r\n",
      "-rw-r--r-- 1 psol3692 RDS-FSC-MDPF-RW         398 Mar 11 01:43 md_0_5.job\r\n",
      "-rw-r--r-- 1 psol3692 RDS-FSC-MDPF-RW       31265 Mar 11 01:46 md_0_5.log\r\n",
      "-rw-r--r-- 1 psol3692 RDS-FSC-MDPF-RW     1239700 Mar 11 01:43 md_0_5.tpr\r\n",
      "-rw-r--r-- 1 psol3692 RDS-FSC-MDPF-RW    10758792 Mar 11 01:46 md_0_5.trr\r\n",
      "-rw-r--r-- 1 psol3692 RDS-FSC-MDPF-RW     1635216 Mar 11 01:46 md_0_5.xtc\r\n",
      "-rw-r--r-- 1 psol3692 RDS-FSC-MDPF-RW      980464 Mar 11 02:49 md_0_6.cpt\r\n",
      "-rw-r--r-- 1 psol3692 RDS-FSC-MDPF-RW       66132 Mar 11 02:49 md_0_6.edr\r\n",
      "-rw-r--r-- 1 psol3692 RDS-FSC-MDPF-RW         402 Mar 11 01:46 md_0_6.job\r\n",
      "-rw-r--r-- 1 psol3692 RDS-FSC-MDPF-RW       80393 Mar 11 02:49 md_0_6.log\r\n",
      "-rw-r--r-- 1 psol3692 RDS-FSC-MDPF-RW      980104 Mar 11 02:49 md_0_6_prev.cpt\r\n",
      "-rw-r--r-- 1 psol3692 RDS-FSC-MDPF-RW     1239700 Mar 11 02:33 md_0_6.tpr\r\n",
      "-rw-r--r-- 1 psol3692 RDS-FSC-MDPF-RW    95851056 Mar 11 02:49 md_0_6.trr\r\n",
      "-rw-r--r-- 1 psol3692 RDS-FSC-MDPF-RW    14562248 Mar 11 02:49 md_0_6.xtc\r\n",
      "-rw-r--r-- 1 psol3692 RDS-FSC-MDPF-RW      980104 Mar 11 06:42 md_0_7.cpt\r\n",
      "-rw-r--r-- 1 psol3692 RDS-FSC-MDPF-RW      111672 Mar 11 06:43 md_0_7.edr\r\n",
      "-rw-r--r-- 1 psol3692 RDS-FSC-MDPF-RW         402 Mar 11 01:49 md_0_7.job\r\n",
      "-rw-r--r-- 1 psol3692 RDS-FSC-MDPF-RW      122493 Mar 11 06:43 md_0_7.log\r\n",
      "-rw-r--r-- 1 psol3692 RDS-FSC-MDPF-RW     1239700 Mar 11 06:26 md_0_7.tpr\r\n",
      "-rw-r--r-- 1 psol3692 RDS-FSC-MDPF-RW   164316096 Mar 11 06:43 md_0_7.trr\r\n",
      "-rw-r--r-- 1 psol3692 RDS-FSC-MDPF-RW    24961800 Mar 11 06:43 md_0_7.xtc\r\n",
      "-rw-r--r-- 1 psol3692 RDS-FSC-MDPF-RW      980104 Mar 11 10:40 md_0_8.cpt\r\n",
      "-rw-r--r-- 1 psol3692 RDS-FSC-MDPF-RW      140712 Mar 11 10:40 md_0_8.edr\r\n",
      "-rw-r--r-- 1 psol3692 RDS-FSC-MDPF-RW         402 Mar 11 01:49 md_0_8.job\r\n",
      "-rw-r--r-- 1 psol3692 RDS-FSC-MDPF-RW      155647 Mar 11 10:40 md_0_8.log\r\n",
      "-rw-r--r-- 1 psol3692 RDS-FSC-MDPF-RW      980104 Mar 11 10:40 md_0_8_prev.cpt\r\n",
      "-rw-r--r-- 1 psol3692 RDS-FSC-MDPF-RW     1239700 Mar 11 10:23 md_0_8.tpr\r\n",
      "-rw-r--r-- 1 psol3692 RDS-FSC-MDPF-RW   206373192 Mar 11 10:40 md_0_8.trr\r\n",
      "-rw-r--r-- 1 psol3692 RDS-FSC-MDPF-RW    31352408 Mar 11 10:40 md_0_8.xtc\r\n",
      "-rw-r--r-- 1 psol3692 RDS-FSC-MDPF-RW      980104 Mar 11 11:48 md_0_9.cpt\r\n",
      "-rw-r--r-- 1 psol3692 RDS-FSC-MDPF-RW      160512 Mar 11 11:48 md_0_9.edr\r\n",
      "-rw-r--r-- 1 psol3692 RDS-FSC-MDPF-RW         402 Mar 11 01:50 md_0_9.job\r\n",
      "-rw-r--r-- 1 psol3692 RDS-FSC-MDPF-RW      174787 Mar 11 11:48 md_0_9.log\r\n",
      "-rw-r--r-- 1 psol3692 RDS-FSC-MDPF-RW      980104 Mar 11 11:48 md_0_9_prev.cpt\r\n",
      "-rw-r--r-- 1 psol3692 RDS-FSC-MDPF-RW     1239700 Mar 11 11:32 md_0_9.tpr\r\n",
      "-rw-r--r-- 1 psol3692 RDS-FSC-MDPF-RW   235715352 Mar 11 11:48 md_0_9.trr\r\n",
      "-rw-r--r-- 1 psol3692 RDS-FSC-MDPF-RW    35809680 Mar 11 11:48 md_0_9.xtc\r\n",
      "-rw-r--r-- 1 psol3692 RDS-FSC-MDPF-RW      980100 Mar 11 23:23 md_1_0.cpt\r\n",
      "-rw-r--r-- 1 psol3692 RDS-FSC-MDPF-RW     5729592 Mar 11 23:29 md_1_0.edr\r\n",
      "-rw-r--r-- 1 psol3692 RDS-FSC-MDPF-RW         398 Mar 11 01:53 md_1_0.job\r\n",
      "-rw-r--r-- 1 psol3692 RDS-FSC-MDPF-RW     5401819 Mar 11 23:29 md_1_0.log\r\n",
      "-rw-r--r-- 1 psol3692 RDS-FSC-MDPF-RW      980100 Mar 11 23:23 md_1_0_prev.cpt\r\n",
      "-rw-r--r-- 1 psol3692 RDS-FSC-MDPF-RW     1239700 Mar 11 01:53 md_1_0.tpr\r\n",
      "-rw-r--r-- 1 psol3692 RDS-FSC-MDPF-RW  8489664960 Mar 11 23:29 md_1_0.trr\r\n",
      "-rw-r--r-- 1 psol3692 RDS-FSC-MDPF-RW  1289713108 Mar 11 23:29 md_1_0.xtc\r\n",
      "-rw-r--r-- 1 psol3692 RDS-FSC-MDPF-RW        2420 Mar 11 01:52 md.mdp\r\n",
      "-rw-r--r-- 1 psol3692 RDS-FSC-MDPF-RW       11999 Mar 11 11:32 mdout.mdp\r\n",
      "-rw-r--r-- 1 psol3692 RDS-FSC-MDPF-RW       11988 Mar 11 01:43 #mdout.mdp.1#\r\n",
      "-rw-r--r-- 1 psol3692 RDS-FSC-MDPF-RW       11991 Mar 11 01:53 #mdout.mdp.2#\r\n",
      "-rw-r--r-- 1 psol3692 RDS-FSC-MDPF-RW       11999 Mar 11 02:33 #mdout.mdp.3#\r\n",
      "-rw-r--r-- 1 psol3692 RDS-FSC-MDPF-RW       11999 Mar 11 06:26 #mdout.mdp.4#\r\n",
      "-rw-r--r-- 1 psol3692 RDS-FSC-MDPF-RW       11999 Mar 11 10:23 #mdout.mdp.5#\r\n",
      "-rw-r--r-- 1 psol3692 RDS-FSC-MDPF-RW          28 Mar 11 11:32 nodes.txt\r\n",
      "-rw-r--r-- 1 psol3692 RDS-FSC-MDPF-RW      980024 Mar 11 00:45 npt.cpt\r\n",
      "-rw-r--r-- 1 psol3692 RDS-FSC-MDPF-RW       68688 Mar 11 00:45 npt.edr\r\n",
      "-rw-r--r-- 1 psol3692 RDS-FSC-MDPF-RW     2811666 Mar 11 00:45 npt.gro\r\n",
      "-rw-r--r-- 1 psol3692 RDS-FSC-MDPF-RW         317 Mar 11 00:42 npt.job\r\n",
      "-rw-r--r-- 1 psol3692 RDS-FSC-MDPF-RW       91596 Mar 11 00:45 npt.log\r\n",
      "-rw-r--r-- 1 psol3692 RDS-FSC-MDPF-RW     1256236 Mar 11 00:41 npt.tpr\r\n",
      "-rw-r--r-- 1 psol3692 RDS-FSC-MDPF-RW    98785272 Mar 11 00:45 npt.trr\r\n",
      "-rw-r--r-- 1 psol3692 RDS-FSC-MDPF-RW      979676 Mar 11 00:36 nvt.cpt\r\n",
      "-rw-r--r-- 1 psol3692 RDS-FSC-MDPF-RW       57652 Mar 11 00:36 nvt.edr\r\n",
      "-rw-r--r-- 1 psol3692 RDS-FSC-MDPF-RW     2811666 Mar 11 00:36 nvt.gro\r\n",
      "-rw-r--r-- 1 psol3692 RDS-FSC-MDPF-RW         317 Mar 11 00:30 nvt.job\r\n",
      "-rw-r--r-- 1 psol3692 RDS-FSC-MDPF-RW       94645 Mar 11 00:36 nvt.log\r\n",
      "-rw-r--r-- 1 psol3692 RDS-FSC-MDPF-RW     1256236 Mar 11 00:21 nvt.tpr\r\n",
      "-rw-r--r-- 1 psol3692 RDS-FSC-MDPF-RW    98785272 Mar 11 00:36 nvt.trr\r\n",
      "-rw------- 1 psol3692 RDS-FSC-MDPF-RW       92666 Mar 11 01:58 topol.top\r\n",
      "-rw------- 1 psol3692 RDS-FSC-ISSSM-RW      16185 Mar 11 01:04 trp_cage_md_0_1.e1365586\r\n",
      "-rw------- 1 psol3692 RDS-FSC-ISSSM-RW      20387 Mar 11 01:14 trp_cage_md_0_1.e1365587\r\n",
      "-rw------- 1 psol3692 RDS-FSC-ISSSM-RW      21152 Mar 11 01:17 trp_cage_md_0_1.e1365588\r\n",
      "-rw------- 1 psol3692 RDS-FSC-ISSSM-RW      31388 Mar 11 01:22 trp_cage_md_0_1.e1365589\r\n",
      "-rw------- 1 psol3692 RDS-FSC-ISSSM-RW      64252 Mar 11 01:30 trp_cage_md_0_1.e1365590\r\n",
      "-rw------- 1 psol3692 RDS-FSC-ISSSM-RW      20114 Mar 11 01:34 trp_cage_md_0_1.e1365591\r\n",
      "-rw------- 1 psol3692 RDS-FSC-ISSSM-RW      44381 Mar 11 01:38 trp_cage_md_0_1.e1365592\r\n",
      "-rw------- 1 psol3692 RDS-FSC-ISSSM-RW        803 Mar 11 01:35 trp_cage_md_0_1.log\r\n",
      "-rw-r--r-- 1 psol3692 RDS-FSC-MDPF-RW       25921 Mar 11 01:38 trp_cage_md_0_1.log_usage\r\n",
      "-rw------- 1 psol3692 RDS-FSC-ISSSM-RW      44230 Mar 11 01:38 trp_cage_md_0_2.e1365593\r\n",
      "-rw------- 1 psol3692 RDS-FSC-ISSSM-RW        803 Mar 11 01:36 trp_cage_md_0_2.log\r\n",
      "-rw-r--r-- 1 psol3692 RDS-FSC-MDPF-RW        2400 Mar 11 01:38 trp_cage_md_0_2.log_usage\r\n",
      "-rw------- 1 psol3692 RDS-FSC-ISSSM-RW      43034 Mar 11 01:40 trp_cage_md_0_3.e1365594\r\n",
      "-rw------- 1 psol3692 RDS-FSC-ISSSM-RW        803 Mar 11 01:38 trp_cage_md_0_3.log\r\n",
      "-rw-r--r-- 1 psol3692 RDS-FSC-MDPF-RW        4320 Mar 11 01:40 trp_cage_md_0_3.log_usage\r\n",
      "-rw------- 1 psol3692 RDS-FSC-ISSSM-RW      44447 Mar 11 01:42 trp_cage_md_0_4.e1365595\r\n",
      "-rw------- 1 psol3692 RDS-FSC-ISSSM-RW        803 Mar 11 01:40 trp_cage_md_0_4.log\r\n",
      "-rw-r--r-- 1 psol3692 RDS-FSC-MDPF-RW        1920 Mar 11 01:42 trp_cage_md_0_4.log_usage\r\n",
      "-rw------- 1 psol3692 RDS-FSC-ISSSM-RW      39866 Mar 11 01:46 trp_cage_md_0_5.e1365596\r\n",
      "-rw------- 1 psol3692 RDS-FSC-ISSSM-RW        803 Mar 11 01:43 trp_cage_md_0_5.log\r\n",
      "-rw-r--r-- 1 psol3692 RDS-FSC-MDPF-RW         960 Mar 11 01:46 trp_cage_md_0_5.log_usage\r\n",
      "-rw------- 1 psol3692 RDS-FSC-ISSSM-RW     250525 Mar 11 02:49 trp_cage_md_0_6.e1365597\r\n",
      "-rw------- 1 psol3692 RDS-FSC-ISSSM-RW        758 Mar 11 02:33 trp_cage_md_0_6.log\r\n",
      "-rw-r--r-- 1 psol3692 RDS-FSC-MDPF-RW         479 Mar 11 02:49 trp_cage_md_0_6.log_usage\r\n",
      "-rw------- 1 psol3692 RDS-FSC-ISSSM-RW     467476 Mar 11 06:43 trp_cage_md_0_7.e1365598\r\n",
      "-rw------- 1 psol3692 RDS-FSC-ISSSM-RW        758 Mar 11 06:26 trp_cage_md_0_7.log\r\n",
      "-rw-r--r-- 1 psol3692 RDS-FSC-MDPF-RW         956 Mar 11 06:43 trp_cage_md_0_7.log_usage\r\n",
      "-rw------- 1 psol3692 RDS-FSC-ISSSM-RW     585853 Mar 11 10:40 trp_cage_md_0_8.e1365599\r\n",
      "-rw------- 1 psol3692 RDS-FSC-ISSSM-RW        758 Mar 11 10:23 trp_cage_md_0_8.log\r\n",
      "-rw-r--r-- 1 psol3692 RDS-FSC-MDPF-RW        1433 Mar 11 10:40 trp_cage_md_0_8.log_usage\r\n",
      "-rw------- 1 psol3692 RDS-FSC-ISSSM-RW     670471 Mar 11 11:48 trp_cage_md_0_9.e1365600\r\n",
      "-rw------- 1 psol3692 RDS-FSC-ISSSM-RW        758 Mar 11 11:32 trp_cage_md_0_9.log\r\n",
      "-rw-r--r-- 1 psol3692 RDS-FSC-MDPF-RW        1910 Mar 11 11:48 trp_cage_md_0_9.log_usage\r\n",
      "-rw------- 1 psol3692 RDS-FSC-MDPF-RW       41732 Mar 11 00:45 trp_cage_npt.e1365583\r\n",
      "-rw------- 1 psol3692 RDS-FSC-MDPF-RW           0 Mar 11 00:42 trp_cage_npt.log\r\n",
      "-rw-r--r-- 1 psol3692 RDS-FSC-MDPF-RW        1900 Mar 11 00:45 trp_cage_npt.log_usage\r\n",
      "-rw------- 1 psol3692 RDS-FSC-MDPF-RW       40936 Mar 11 00:36 trp_cage_nvt.e1365582\r\n",
      "-rw------- 1 psol3692 RDS-FSC-MDPF-RW           0 Mar 11 00:30 trp_cage_nvt.log\r\n",
      "-rw-r--r-- 1 psol3692 RDS-FSC-MDPF-RW         950 Mar 11 00:36 trp_cage_nvt.log_usage\r\n",
      "\u001b[m"
     ]
    }
   ],
   "source": [
    "%ls -la"
   ]
  },
  {
   "cell_type": "code",
   "execution_count": 15,
   "metadata": {
    "collapsed": false,
    "deletable": true,
    "editable": true
   },
   "outputs": [
    {
     "name": "stdout",
     "output_type": "stream",
     "text": [
      "1365582.pbsserver\r\n"
     ]
    }
   ],
   "source": [
    "!qsub nvt.job"
   ]
  },
  {
   "cell_type": "code",
   "execution_count": 2,
   "metadata": {
    "collapsed": false,
    "deletable": true,
    "editable": true
   },
   "outputs": [
    {
     "name": "stdout",
     "output_type": "stream",
     "text": [
      "\r\n",
      "pbsserver: \r\n",
      "                                                            Req'd  Req'd   Elap\r\n",
      "Job ID          Username Queue    Jobname    SessID NDS TSK Memory Time  S Time\r\n",
      "--------------- -------- -------- ---------- ------ --- --- ------ ----- - -----\r\n",
      "1365601.pbsserv psol3692 normal   trp_cage_m  47979   4  48  256gb 48:00 R 20:10\r\n"
     ]
    }
   ],
   "source": [
    "!qstat -u psol3692"
   ]
  },
  {
   "cell_type": "code",
   "execution_count": 9,
   "metadata": {
    "collapsed": false,
    "deletable": true,
    "editable": true
   },
   "outputs": [
    {
     "name": "stdout",
     "output_type": "stream",
     "text": [
      " PME redist. X/F        2    6     100002      18.065        541.937   6.3\r\n",
      " PME spread/gather      2    6     100002      45.118       1353.543  15.8\r\n",
      " PME 3D-FFT             2    6     100002      12.744        382.308   4.5\r\n",
      " PME 3D-FFT Comm.       2    6     100002       9.432        282.962   3.3\r\n",
      " PME solve Elec         2    6      50001       1.243         37.300   0.4\r\n",
      "-----------------------------------------------------------------------------\r\n",
      "\r\n",
      "               Core t (s)   Wall t (s)        (%)\r\n",
      "       Time:     3432.756      286.063     1200.0\r\n",
      "                 (ns/day)    (hour/ns)\r\n",
      "Performance:       30.204        0.795\r\n",
      "Finished mdrun on rank 0 Sat Mar 11 00:36:00 2017\r\n"
     ]
    }
   ],
   "source": [
    "!tail -n 12 nvt.log"
   ]
  },
  {
   "cell_type": "code",
   "execution_count": 11,
   "metadata": {
    "collapsed": false,
    "deletable": true,
    "editable": true
   },
   "outputs": [
    {
     "name": "stdout",
     "output_type": "stream",
     "text": [
      "Writing npt.job\n"
     ]
    }
   ],
   "source": [
    "%%file npt.job\n",
    "#!/bin/bash\n",
    "#PBS -N trp_cage_npt\n",
    "#PBS -P MDPF\n",
    "\n",
    "#PBS -l select=4:ncpus=6:mpiprocs=1:mem=32GB:ngpus=0\n",
    "#PBS -l walltime=0:10:0\n",
    "#PBS -o trp_cage_npt.log\n",
    "\n",
    "module load intel-mpi \n",
    "module load gromacs/2016.2-intel-mpi-gpu\n",
    "cd $PBS_O_WORKDIR\n",
    "cat ${PBS_NODEFILE} > nodes.txt\n",
    " \n",
    "mpirun -np 4 gmx_mpi mdrun -v -ntomp 6 -deffnm npt "
   ]
  },
  {
   "cell_type": "code",
   "execution_count": 11,
   "metadata": {
    "collapsed": false,
    "deletable": true,
    "editable": true
   },
   "outputs": [
    {
     "name": "stdout",
     "output_type": "stream",
     "text": [
      "qsub: User psol3692 is not a member of project RDS-FSC-MDPF-RW.\r\n"
     ]
    }
   ],
   "source": [
    "!qsub npt.job"
   ]
  },
  {
   "cell_type": "code",
   "execution_count": 23,
   "metadata": {
    "collapsed": false,
    "deletable": true,
    "editable": true
   },
   "outputs": [
    {
     "name": "stdout",
     "output_type": "stream",
     "text": [
      " PME redist. X/F        4    6     100002       9.039        562.707   6.9\r\n",
      " PME spread/gather      4    6     100002      16.368       1018.982  12.5\r\n",
      " PME 3D-FFT             4    6     100002       4.572        284.622   3.5\r\n",
      " PME 3D-FFT Comm.       4    6     100002       5.824        362.555   4.4\r\n",
      " PME solve Elec         4    6      50001       0.640         39.866   0.5\r\n",
      "-----------------------------------------------------------------------------\r\n",
      "\r\n",
      "               Core t (s)   Wall t (s)        (%)\r\n",
      "       Time:     3148.444      131.185     2400.0\r\n",
      "                 (ns/day)    (hour/ns)\r\n",
      "Performance:       65.862        0.364\r\n",
      "Finished mdrun on rank 0 Sat Mar 11 00:45:02 2017\r\n"
     ]
    }
   ],
   "source": [
    "!tail -n 12 npt.log"
   ]
  },
  {
   "cell_type": "code",
   "execution_count": 117,
   "metadata": {
    "collapsed": false,
    "deletable": true,
    "editable": true
   },
   "outputs": [
    {
     "name": "stdout",
     "output_type": "stream",
     "text": [
      "Overwriting md.mdp\n"
     ]
    }
   ],
   "source": [
    "%%file md.mdp\n",
    "; Run parameters\n",
    "integrator  = md        ; leap-frog integrator\n",
    "nsteps      = 50000000  ; 2 * 50000000 = 100000 ps (100 ns)\n",
    "dt          = 0.002     ; 2 fs\n",
    "\n",
    "; Output control\n",
    "nstxout     = 5000       ; save coordinates every 10.0 ps\n",
    "nstvout     = 5000       ; save velocities every 10.0 ps\n",
    "nstenergy   = 5000       ; save energies every 10.0 ps\n",
    "nstlog      = 5000       ; update log file every 10.0 ps\n",
    "nstxout-compressed  = 5000      ; save compressed coordinates every 10.0 ps\n",
    "                                ; nstxout-compressed replaces nstxtcout\n",
    "compressed-x-grps   = System    ; replaces xtc-grps\n",
    "\n",
    "; Bond parameters\n",
    "continuation            = yes       ; restarting acter NPT\n",
    "constraint_algorithm    = lincs     ; holonomic constraints \n",
    "constraints             = all-bonds ; all bonds (even heavy atom-H bonds) constrained\n",
    "lincs_iter              = 1         ; accuracy of LINCS\n",
    "lincs_order             = 4         ; also related to accuracy\n",
    "\n",
    "; Neighborsearching\n",
    "cutoff-scheme   = Verlet\n",
    "ns_type         = grid      ; search neighboring grid cells\n",
    "nstlist         = 10        ; 20 fs, largely irrelevant with Verlet\n",
    "rcoulomb        = 1.0       ; short-range electrostatic cutoff (in nm)\n",
    "rvdw            = 1.0       ; short-range van der Waals cutoff (in nm)\n",
    "\n",
    "; Electrostatics\n",
    "coulombtype     = PME   ; Particle Mesh Ewald for long-range electrostatics\n",
    "pme_order       = 4     ; cubic interpolation\n",
    "fourierspacing  = 0.16  ; grid spacing for FFT\n",
    "\n",
    "; Temperature coupling is on\n",
    "tcoupl      = V-rescale             ; modified Berendsen thermostat\n",
    "tc-grps     = Protein Non-Protein   ; two coupling groups - more accurate\n",
    "tau_t       = 0.1  0.1              ; time constant, in ps\n",
    "ref_t       = 325  325              ; reference temperature, one for each group, in K\n",
    "\n",
    "; Pressure coupling is on\n",
    "pcoupl              = Parrinello-Rahman     ; Pressure coupling on in NPT\n",
    "pcoupltype          = isotropic             ; uniform scaling of box vectors\n",
    "tau_p               = 2.0                   ; time constant, in ps\n",
    "ref_p               = 1.0                   ; reference pressure, in bar\n",
    "compressibility     = 4.5e-5                ; isothermal compressibility of water, bar^-1\n",
    "refcoord_scaling    = com\n",
    "\n",
    "; Periodic boundary conditions\n",
    "pbc         = xyz       ; 3-D PBC\n",
    "\n",
    "; Dispersion correction\n",
    "DispCorr    = EnerPres  ; account for cut-off vdW scheme\n",
    "\n",
    "; Velocity generation\n",
    "gen_vel     = no       ; Velocity generation is off\n"
   ]
  },
  {
   "cell_type": "code",
   "execution_count": 118,
   "metadata": {
    "collapsed": false,
    "deletable": true,
    "editable": true
   },
   "outputs": [
    {
     "name": "stdout",
     "output_type": "stream",
     "text": [
      "Writing md_1_0.job\n"
     ]
    }
   ],
   "source": [
    "%%file md_1_0.job\n",
    "#!/bin/bash\n",
    "#PBS -N trp_cage_md_1_0\n",
    "#PBS -P ISSSM\n",
    "\n",
    "#PBS -l select=4:ncpus=12:mpiprocs=1:mem=64GB:ngpus=0\n",
    "#PBS -l walltime=48:00:0\n",
    "#PBS -o trp_cage_md_1_0.log\n",
    "\n",
    "module load intel-mpi \n",
    "module load gromacs/2016.2-intel-mpi\n",
    "cd $PBS_O_WORKDIR\n",
    "cat ${PBS_NODEFILE} > nodes.txt\n",
    "\n",
    "gmx_mpi grompp -f md.mdp -c npt.gro -t npt.cpt -p topol.top -o md_1_0.tpr\n",
    "mpirun -np 4 gmx_mpi mdrun -v -ntomp 12 -deffnm md_1_0"
   ]
  },
  {
   "cell_type": "code",
   "execution_count": 119,
   "metadata": {
    "collapsed": false,
    "deletable": true,
    "editable": true
   },
   "outputs": [
    {
     "name": "stdout",
     "output_type": "stream",
     "text": [
      "1365601.pbsserver\r\n"
     ]
    }
   ],
   "source": [
    "!qsub md_1_0.job"
   ]
  },
  {
   "cell_type": "code",
   "execution_count": 70,
   "metadata": {
    "collapsed": false,
    "deletable": true,
    "editable": true
   },
   "outputs": [
    {
     "name": "stdout",
     "output_type": "stream",
     "text": [
      " PME redist. X/F        4    6     100002       9.821        589.275   6.9\r\n",
      " PME spread/gather      4    6     100002      18.665       1119.909  13.1\r\n",
      " PME 3D-FFT             4    6     100002       5.701        342.036   4.0\r\n",
      " PME 3D-FFT Comm.       4    6     100002       5.760        345.626   4.1\r\n",
      " PME solve Elec         4    6      50001       0.688         41.268   0.5\r\n",
      "-----------------------------------------------------------------------------\r\n",
      "\r\n",
      "               Core t (s)   Wall t (s)        (%)\r\n",
      "       Time:     3413.359      142.223     2400.0\r\n",
      "                 (ns/day)    (hour/ns)\r\n",
      "Performance:       60.751        0.395\r\n",
      "Finished mdrun on rank 0 Sat Mar 11 01:38:13 2017\r\n"
     ]
    }
   ],
   "source": [
    "!tail -n 12 md_0_1.log"
   ]
  },
  {
   "cell_type": "code",
   "execution_count": 75,
   "metadata": {
    "collapsed": false,
    "deletable": true,
    "editable": true
   },
   "outputs": [
    {
     "name": "stdout",
     "output_type": "stream",
     "text": [
      " PME redist. X/F        8    6     100002      23.137       2880.875  16.8\r\n",
      " PME spread/gather      8    6     100002      17.677       2200.961  12.9\r\n",
      " PME 3D-FFT             8    6     100002       4.236        527.402   3.1\r\n",
      " PME 3D-FFT Comm.       8    6     200004      14.413       1794.588  10.5\r\n",
      " PME solve Elec         8    6      50001       0.332         41.386   0.2\r\n",
      "-----------------------------------------------------------------------------\r\n",
      "\r\n",
      "               Core t (s)   Wall t (s)        (%)\r\n",
      "       Time:     6592.784      137.350     4800.0\r\n",
      "                 (ns/day)    (hour/ns)\r\n",
      "Performance:       62.906        0.382\r\n",
      "Finished mdrun on rank 0 Sat Mar 11 01:38:36 2017\r\n"
     ]
    }
   ],
   "source": [
    "!tail -n 12 md_0_2.log"
   ]
  },
  {
   "cell_type": "code",
   "execution_count": 82,
   "metadata": {
    "collapsed": false,
    "deletable": true,
    "editable": true
   },
   "outputs": [
    {
     "name": "stdout",
     "output_type": "stream",
     "text": [
      " PME redist. X/F       16    6     100002      30.219       7525.261  26.7\r\n",
      " PME spread/gather     16    6     100002      15.223       3790.781  13.5\r\n",
      " PME 3D-FFT            16    6     100002       3.535        880.253   3.1\r\n",
      " PME 3D-FFT Comm.      16    6     200004      12.856       3201.360  11.4\r\n",
      " PME solve Elec        16    6      50001       0.180         44.915   0.2\r\n",
      "-----------------------------------------------------------------------------\r\n",
      "\r\n",
      "               Core t (s)   Wall t (s)        (%)\r\n",
      "       Time:    10852.383      113.046     9600.0\r\n",
      "                 (ns/day)    (hour/ns)\r\n",
      "Performance:       76.431        0.314\r\n",
      "Finished mdrun on rank 0 Sat Mar 11 01:40:43 2017\r\n"
     ]
    }
   ],
   "source": [
    "!tail -n 12 md_0_3.log"
   ]
  },
  {
   "cell_type": "code",
   "execution_count": 90,
   "metadata": {
    "collapsed": false,
    "deletable": true,
    "editable": true
   },
   "outputs": [
    {
     "name": "stdout",
     "output_type": "stream",
     "text": [
      " PME redist. X/F        4   12     100002       9.857       1227.348  10.4\r\n",
      " PME spread/gather      4   12     100002      13.171       1639.985  13.9\r\n",
      " PME 3D-FFT             4   12     100002       3.748        466.699   4.0\r\n",
      " PME 3D-FFT Comm.       4   12     100002       6.140        764.520   6.5\r\n",
      " PME solve Elec         4   12      50001       0.327         40.758   0.3\r\n",
      "-----------------------------------------------------------------------------\r\n",
      "\r\n",
      "               Core t (s)   Wall t (s)        (%)\r\n",
      "       Time:     4538.585       94.554     4800.0\r\n",
      "                 (ns/day)    (hour/ns)\r\n",
      "Performance:       91.378        0.263\r\n",
      "Finished mdrun on rank 0 Sat Mar 11 01:42:32 2017\r\n"
     ]
    }
   ],
   "source": [
    "!tail -n 12 md_0_4.log"
   ]
  },
  {
   "cell_type": "code",
   "execution_count": 104,
   "metadata": {
    "collapsed": false,
    "deletable": true,
    "editable": true
   },
   "outputs": [
    {
     "name": "stdout",
     "output_type": "stream",
     "text": [
      " PME redist. X/F        2   24     100002      16.384       2039.953  12.5\r\n",
      " PME spread/gather      2   24     100002      17.874       2225.578  13.7\r\n",
      " PME 3D-FFT             2   24     100002       6.109        760.586   4.7\r\n",
      " PME 3D-FFT Comm.       2   24     100002       9.201       1145.598   7.0\r\n",
      " PME solve Elec         2   24      50001       0.332         41.322   0.3\r\n",
      "-----------------------------------------------------------------------------\r\n",
      "\r\n",
      "               Core t (s)   Wall t (s)        (%)\r\n",
      "       Time:     6281.003      130.854     4800.0\r\n",
      "                 (ns/day)    (hour/ns)\r\n",
      "Performance:       66.029        0.363\r\n",
      "Finished mdrun on rank 0 Sat Mar 11 01:46:03 2017\r\n"
     ]
    }
   ],
   "source": [
    "!tail -n 12 md_0_5.log"
   ]
  },
  {
   "cell_type": "code",
   "execution_count": 7,
   "metadata": {
    "collapsed": false,
    "deletable": true,
    "editable": true
   },
   "outputs": [
    {
     "name": "stdout",
     "output_type": "stream",
     "text": [
      "       43400000    86800.00000\r\n",
      "\r\n",
      "   Energies (kJ/mol)\r\n",
      "          Angle    Proper Dih. Ryckaert-Bell.          LJ-14     Coulomb-14\r\n",
      "    6.42949e+02    3.59351e+01    2.90648e+02    4.08731e+02    1.75765e+03\r\n",
      "        LJ (SR)  Disper. corr.   Coulomb (SR)   Coul. recip.      Potential\r\n",
      "    1.15476e+05   -4.93838e+03   -7.31006e+05    3.64844e+03   -6.13684e+05\r\n",
      "    Kinetic En.   Total Energy    Temperature Pres. DC (bar) Pressure (bar)\r\n",
      "    1.10572e+05   -5.03112e+05    3.26398e+02   -1.98340e+02   -1.00706e+02\r\n",
      "   Constr. rmsd\r\n",
      "    6.65874e-05\r\n",
      "\r\n"
     ]
    }
   ],
   "source": [
    "!tail -n 12 md_1_0.log"
   ]
  },
  {
   "cell_type": "code",
   "execution_count": 115,
   "metadata": {
    "collapsed": false,
    "deletable": true,
    "editable": true
   },
   "outputs": [],
   "source": [
    "!rm \\#*"
   ]
  },
  {
   "cell_type": "code",
   "execution_count": 130,
   "metadata": {
    "collapsed": false,
    "deletable": true,
    "editable": true
   },
   "outputs": [
    {
     "name": "stdout",
     "output_type": "stream",
     "text": [
      "\r\n",
      "pbsserver: \r\n",
      "                                                            Req'd  Req'd   Elap\r\n",
      "Job ID          Username Queue    Jobname    SessID NDS TSK Memory Time  S Time\r\n",
      "--------------- -------- -------- ---------- ------ --- --- ------ ----- - -----\r\n",
      "1365597.pbsserv psol3692 gpu      trp_cage_m    --    1  12   64gb 00:15 Q   -- \r\n",
      "1365598.pbsserv psol3692 gpu      trp_cage_m    --    2  24  128gb 00:15 Q   -- \r\n",
      "1365599.pbsserv psol3692 gpu      trp_cage_m    --    3  36  192gb 00:15 Q   -- \r\n",
      "1365600.pbsserv psol3692 gpu      trp_cage_m    --    4  48  256gb 00:15 Q   -- \r\n",
      "1365601.pbsserv psol3692 normal   trp_cage_m  47979   4  48  256gb 48:00 R 00:01\r\n"
     ]
    }
   ],
   "source": [
    "!qstat -u psol3692"
   ]
  },
  {
   "cell_type": "code",
   "execution_count": 129,
   "metadata": {
    "collapsed": true,
    "deletable": true,
    "editable": true
   },
   "outputs": [],
   "source": [
    "!qalter 1365600 -l walltime=00:15:00"
   ]
  },
  {
   "cell_type": "code",
   "execution_count": null,
   "metadata": {
    "collapsed": true
   },
   "outputs": [],
   "source": []
  }
 ],
 "metadata": {
  "kernelspec": {
   "display_name": "HPC @ Artemis",
   "language": "python",
   "name": "template"
  },
  "language_info": {
   "codemirror_mode": {
    "name": "ipython",
    "version": 2
   },
   "file_extension": ".py",
   "mimetype": "text/x-python",
   "name": "python",
   "nbconvert_exporter": "python",
   "pygments_lexer": "ipython2",
   "version": "2.7.13"
  }
 },
 "nbformat": 4,
 "nbformat_minor": 2
}
