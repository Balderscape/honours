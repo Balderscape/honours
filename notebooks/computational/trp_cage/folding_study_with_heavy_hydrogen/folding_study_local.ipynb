{
 "cells": [
  {
   "cell_type": "markdown",
   "metadata": {},
   "source": [
    "# MD Folding Simulation of the TRP Cage Protein with Heavy-H (Local)\n",
    "\n",
    "This is an attempt to fold the TRP Cage protein using a MD simulation. The simulation will be run with explicit water and at 325K which *should* allow the full configuration space of the protein to be explored. The protein is initially generated using pymol by adding a single amino acid residue one at a time. This creates a linear backbone that should be ready for folding. The hydrogen atoms are increased in weight to around 4 AMU to allow the timestep in the simulation to be larger, and thus allows for faster simulation runs. This should not affect the final folded configuration.\n",
    "\n",
    "The computationally expensive parts of this simulation will be run on Artemis (the HPC at Sydney University) and as such there is a [second related notebook](./folding_study_artemis.ipynb) that contains the commands run on Artemis."
   ]
  },
  {
   "cell_type": "markdown",
   "metadata": {},
   "source": [
    "---\n",
    "To begin with we will convert our PDB file into a gromacs format. In this step we specify the water model that we will be using (-water spce) and also increase the weight of all of the hydrogen atoms to 4 (-heavyh). The -ignh ignores the specification of the hydrogen atoms in the PDB file and regenerates them, this is required if the hydrogen naming convention in the PDB file does not match what is expected by gromacs. "
   ]
  },
  {
   "cell_type": "code",
   "execution_count": 19,
   "metadata": {
    "collapsed": false
   },
   "outputs": [
    {
     "name": "stdout",
     "output_type": "stream",
     "text": [
      "\n",
      "Using the Oplsaa force field in directory oplsaa.ff\n",
      "\n",
      "Reading trp_cage_linear.pdb...\n",
      "Read 153 atoms\n",
      "Analyzing pdb file\n",
      "Splitting chemical chains based on TER records or chain id changing.\n",
      "There are 1 chains and 0 blocks of water and 20 residues with 153 atoms\n",
      "\n",
      "  chain  #res #atoms\n",
      "  1 ' '    20    153  \n",
      "\n",
      "Reading residue database... (oplsaa)\n",
      "Processing chain 1 (153 atoms, 20 residues)\n",
      "Identified residue ASN2 as a starting terminus.\n",
      "Identified residue SER21 as a ending terminus.\n",
      "Start terminus ASN-2: NH3+\n",
      "End terminus SER-21: COO-\n",
      "Checking for duplicate atoms....\n",
      "Generating any missing hydrogen atoms and/or adding termini.\n",
      "Now there are 20 residues with 304 atoms\n",
      "\t\t--------- PLEASE NOTE ------------\n",
      "You have successfully generated a topology from: trp_cage_linear.pdb.\n",
      "The Oplsaa force field and the spce water model are used.\n",
      "\t\t--------- ETON ESAELP ------------\n"
     ]
    }
   ],
   "source": [
    "%%bash\n",
    "module load gromacs\n",
    "\n",
    "gmx pdb2gmx -f trp_cage_linear.pdb -o trp_cage_processed.gro -ignh -heavyh -water spce -ff oplsaa 2>/dev/null"
   ]
  },
  {
   "cell_type": "markdown",
   "metadata": {},
   "source": [
    "---\n",
    "Next we will adjust the box size and then add the water molecules. The box chosen will be cubic as this will suit the globular folded protein structure. However when the protein is in its initial linear form, the cubic box will end up being significantly oversized. This will result in there being a large number of water molecules introduced during the solvation step which will in-turn cause the simulation to run slower than necessary.\n",
    "\n",
    "To deal with this situation, we will initially solvate the larger box with a large number of water molecules and run the simulation for ~10 nS. After this initial run, the protein should have shifted to a more globular form. At this point we will strip out the solvent, correct the box size to a smaller box and then resolvate. The simulation will then be able to run with the lower solvent load for the remainder of the simulation."
   ]
  },
  {
   "cell_type": "code",
   "execution_count": 20,
   "metadata": {
    "collapsed": false
   },
   "outputs": [
    {
     "name": "stdout",
     "output_type": "stream",
     "text": [
      "Read 304 atoms\n",
      "Volume: 36.3039 nm^3, corresponds to roughly 16300 electrons\n",
      "No velocities found\n",
      "    system size :  4.702  3.644  2.119 (nm)\n",
      "    diameter    :  5.546               (nm)\n",
      "    center      :  2.329  1.321  0.388 (nm)\n",
      "    box vectors :  4.702  3.643  2.119 (nm)\n",
      "    box angles  :  90.00  90.00  90.00 (degrees)\n",
      "    box volume  :  36.30               (nm^3)\n",
      "    shift       :  1.444  2.452  3.385 (nm)\n",
      "new center      :  3.773  3.773  3.773 (nm)\n",
      "new box vectors :  7.546  7.546  7.546 (nm)\n",
      "new box angles  :  90.00  90.00  90.00 (degrees)\n",
      "new box volume  : 429.69               (nm^3)\n",
      "\n",
      "WARNING: Masses and atomic (Van der Waals) radii will be guessed\n",
      "         based on residue and atom names, since they could not be\n",
      "         definitively assigned from the information in your input\n",
      "         files. These guessed numbers might deviate from the mass\n",
      "         and radius of the atom type. Please check the output\n",
      "         files if necessary.\n",
      "\n",
      "NOTE: From version 5.0 gmx solvate uses the Van der Waals radii\n",
      "from the source below. This means the results may be different\n",
      "compared to previous GROMACS versions.\n",
      "\n",
      "++++ PLEASE READ AND CITE THE FOLLOWING REFERENCE ++++\n",
      "A. Bondi\n",
      "van der Waals Volumes and Radii\n",
      "J. Phys. Chem. 68 (1964) pp. 441-451\n",
      "-------- -------- --- Thank You --- -------- --------\n",
      "\n",
      "Adding line for 13482 solvent molecules to topology file (topol.top)\n"
     ]
    }
   ],
   "source": [
    "%%bash\n",
    "module load gromacs\n",
    "\n",
    "gmx editconf -f trp_cage_processed.gro -o trp_cage_newbox.gro -c -d 1.0 -bt cubic 2>/dev/null\n",
    "gmx solvate -cp trp_cage_newbox.gro -cs spc216.gro -o trp_cage_solv.gro -p topol.top 2>/dev/null"
   ]
  },
  {
   "cell_type": "markdown",
   "metadata": {},
   "source": [
    "---\n",
    "Our protein has a net charge of 1 (which can be seen in the topol.top file). This charge needs to be neutralised with a counter-ion. In this next step we replace one of the water molecules with a chlorine ion to neutralise the solution. The configuratio file required here is just the same as the energy minimisation file that we will need in the next step.\n",
    "\n",
    "**Warning - if you run this step more than once, it will keep adding chlorine ions to the system each time!!!** "
   ]
  },
  {
   "cell_type": "code",
   "execution_count": 21,
   "metadata": {
    "collapsed": false
   },
   "outputs": [
    {
     "name": "stdout",
     "output_type": "stream",
     "text": [
      "Overwriting em.mdp\n"
     ]
    }
   ],
   "source": [
    "%%file em.mdp\n",
    "; Parameters describing what to do, when to stop and what to save\n",
    "integrator  = steep     ; Algorithm (steep = steepest descent minimization)\n",
    "emtol       = 1000.0    ; Stop minimization when the maximum force < 1000.0 kJ/mol/nm\n",
    "emstep      = 0.01      ; Energy step size\n",
    "nsteps      = 50000     ; Maximum number of (minimization) steps to perform\n",
    "\n",
    "; Parameters describing how to find the neighbors of each atom and how to calculate the interactions\n",
    "nstlist         = 1         ; Frequency to update the neighbor list and long range forces\n",
    "cutoff-scheme   = Verlet\n",
    "ns_type         = grid      ; Method to determine neighbor list (simple, grid)\n",
    "coulombtype     = PME       ; Treatment of long range electrostatic interactions\n",
    "rcoulomb        = 1.0       ; Short-range electrostatic cut-off\n",
    "rvdw            = 1.0       ; Short-range Van der Waals cut-off\n",
    "pbc             = xyz       ; Periodic Boundary Conditions (yes/no)"
   ]
  },
  {
   "cell_type": "code",
   "execution_count": 22,
   "metadata": {
    "collapsed": false
   },
   "outputs": [
    {
     "name": "stdout",
     "output_type": "stream",
     "text": [
      "Analysing residue names:\n",
      "There are:    20    Protein residues\n",
      "There are: 13482      Water residues\n",
      "Analysing Protein...\n",
      "Calculating fourier grid dimensions for X Y Z\n",
      "Using a fourier grid of 64x64x64, spacing 0.118 0.118 0.118\n",
      "This run will generate roughly 3 Mb of data\n",
      "Will try to add 0 NA ions and 1 CL ions.\n",
      "Select a continuous group of solvent molecules\n",
      "Selected 13: 'SOL'\n",
      "\n",
      "Processing topology\n",
      "Replacing 1 solute molecules in topology file (topol.top)  by 0 NA and 1 CL ions.\n"
     ]
    }
   ],
   "source": [
    "%%bash\n",
    "module load gromacs\n",
    "\n",
    "gmx grompp -f em.mdp -c trp_cage_solv.gro -p topol.top -o ions.tpr 2>/dev/null\n",
    "gmx genion -s ions.tpr -o trp_cage_solv_ions.gro -p topol.top -pname NA -nname CL -nn 1 <<< $'13\\n' 2>/dev/null"
   ]
  },
  {
   "cell_type": "markdown",
   "metadata": {},
   "source": [
    "---\n",
    "The next step is to relax the system (protein and solvent). This is done by using a steepest descent minimisation. This step helps to ensure that the system will not blow up when the MD runs start."
   ]
  },
  {
   "cell_type": "code",
   "execution_count": 24,
   "metadata": {
    "collapsed": false,
    "scrolled": false
   },
   "outputs": [
    {
     "name": "stdout",
     "output_type": "stream",
     "text": [
      "Analysing residue names:\n",
      "There are:    20    Protein residues\n",
      "There are: 13481      Water residues\n",
      "There are:     1        Ion residues\n",
      "Analysing Protein...\n",
      "Analysing residues not classified as Protein/DNA/RNA/Water and splitting into groups...\n",
      "Calculating fourier grid dimensions for X Y Z\n",
      "Using a fourier grid of 64x64x64, spacing 0.118 0.118 0.118\n",
      "This run will generate roughly 3 Mb of data\n"
     ]
    }
   ],
   "source": [
    "%%bash\n",
    "module load gromacs\n",
    "\n",
    "gmx grompp -f em.mdp -c trp_cage_solv_ions.gro -p topol.top -o em.tpr 2> /dev/null\n",
    "gmx mdrun -v -deffnm em 2> /dev/null"
   ]
  },
  {
   "cell_type": "code",
   "execution_count": 26,
   "metadata": {
    "collapsed": false,
    "scrolled": true
   },
   "outputs": [
    {
     "name": "stdout",
     "output_type": "stream",
     "text": [
      "\n",
      "Statistics over 764 steps [ 0.0000 through 763.0000 ps ], 1 data sets\n",
      "All statistics are over 605 points (frames)\n",
      "\n",
      "Energy                      Average   Err.Est.       RMSD  Tot-Drift\n",
      "-------------------------------------------------------------------------------\n",
      "Potential                   -692555       9900    23124.4   -65855.1  (kJ/mol)\n"
     ]
    }
   ],
   "source": [
    "%%bash\n",
    "module load gromacs\n",
    "\n",
    "gmx energy -f em.edr -o em.xvg <<< $'10\\n' 2> /dev/null"
   ]
  },
  {
   "cell_type": "code",
   "execution_count": 1,
   "metadata": {
    "collapsed": false
   },
   "outputs": [
    {
     "ename": "ImportError",
     "evalue": "No module named matplotlib",
     "output_type": "error",
     "traceback": [
      "\u001b[0;31m---------------------------------------------------------------------------\u001b[0m",
      "\u001b[0;31mImportError\u001b[0m                               Traceback (most recent call last)",
      "\u001b[0;32m<ipython-input-1-dd66633dbe21>\u001b[0m in \u001b[0;36m<module>\u001b[0;34m()\u001b[0m\n\u001b[1;32m      5\u001b[0m     \u001b[0msys\u001b[0m\u001b[0;34m.\u001b[0m\u001b[0mpath\u001b[0m\u001b[0;34m.\u001b[0m\u001b[0mappend\u001b[0m\u001b[0;34m(\u001b[0m\u001b[0mmodule_path\u001b[0m\u001b[0;34m)\u001b[0m\u001b[0;34m\u001b[0m\u001b[0m\n\u001b[1;32m      6\u001b[0m \u001b[0;34m\u001b[0m\u001b[0m\n\u001b[0;32m----> 7\u001b[0;31m \u001b[0;32mfrom\u001b[0m \u001b[0mhelpers\u001b[0m\u001b[0;34m.\u001b[0m\u001b[0mGromacsHelpers\u001b[0m \u001b[0;32mimport\u001b[0m \u001b[0;34m*\u001b[0m\u001b[0;34m\u001b[0m\u001b[0m\n\u001b[0m\u001b[1;32m      8\u001b[0m \u001b[0mget_ipython\u001b[0m\u001b[0;34m(\u001b[0m\u001b[0;34m)\u001b[0m\u001b[0;34m.\u001b[0m\u001b[0mmagic\u001b[0m\u001b[0;34m(\u001b[0m\u001b[0;34mu'matplotlib inline'\u001b[0m\u001b[0;34m)\u001b[0m\u001b[0;34m\u001b[0m\u001b[0m\n",
      "\u001b[0;32m/root/notebooks/helpers/GromacsHelpers.py\u001b[0m in \u001b[0;36m<module>\u001b[0;34m()\u001b[0m\n\u001b[1;32m      5\u001b[0m \u001b[0;34m\u001b[0m\u001b[0m\n\u001b[1;32m      6\u001b[0m \u001b[0;32mfrom\u001b[0m \u001b[0mIPython\u001b[0m\u001b[0;34m.\u001b[0m\u001b[0mcore\u001b[0m\u001b[0;34m.\u001b[0m\u001b[0mdisplay\u001b[0m \u001b[0;32mimport\u001b[0m \u001b[0mImage\u001b[0m\u001b[0;34m\u001b[0m\u001b[0m\n\u001b[0;32m----> 7\u001b[0;31m \u001b[0;32mimport\u001b[0m \u001b[0mmatplotlib\u001b[0m \u001b[0;32mas\u001b[0m \u001b[0mmplt\u001b[0m\u001b[0;34m\u001b[0m\u001b[0m\n\u001b[0m\u001b[1;32m      8\u001b[0m \u001b[0;32mimport\u001b[0m \u001b[0mmatplotlib\u001b[0m\u001b[0;34m.\u001b[0m\u001b[0mpyplot\u001b[0m \u001b[0;32mas\u001b[0m \u001b[0mplt\u001b[0m\u001b[0;34m\u001b[0m\u001b[0m\n\u001b[1;32m      9\u001b[0m \u001b[0;32mimport\u001b[0m \u001b[0mprettyplotlib\u001b[0m \u001b[0;32mas\u001b[0m \u001b[0mppl\u001b[0m\u001b[0;34m\u001b[0m\u001b[0m\n",
      "\u001b[0;31mImportError\u001b[0m: No module named matplotlib"
     ]
    }
   ],
   "source": [
    "import os\n",
    "import sys\n",
    "module_path = os.path.abspath(os.path.join('../../..'))\n",
    "if module_path not in sys.path:\n",
    "    sys.path.append(module_path)\n",
    "    \n",
    "from helpers.GromacsHelpers import *\n",
    "%matplotlib inline"
   ]
  },
  {
   "cell_type": "code",
   "execution_count": 37,
   "metadata": {
    "collapsed": false
   },
   "outputs": [
    {
     "name": "stderr",
     "output_type": "stream",
     "text": [
      "/opt/conda3/4.2.12/envs/md-gmx-2016.2/lib/python2.7/site-packages/matplotlib/__init__.py:913: UserWarning: axes.color_cycle is deprecated and replaced with axes.prop_cycle; please use the latter.\n",
      "  warnings.warn(self.msg_depr % (key, alt_key))\n"
     ]
    },
    {
     "data": {
      "image/png": "[encoded data removed]",
      "text/plain": [
       "<matplotlib.figure.Figure at 0x7fa29c26c6d0>"
      ]
     },
     "metadata": {},
     "output_type": "display_data"
    }
   ],
   "source": [
    "plotFigure(\"em.xvg\")"
   ]
  },
  {
   "cell_type": "code",
   "execution_count": 46,
   "metadata": {
    "collapsed": false
   },
   "outputs": [
    {
     "name": "stdout",
     "output_type": "stream",
     "text": [
      "Read 40748 atoms\n",
      "Volume: 429.687 nm^3, corresponds to roughly 193300 electrons\n",
      "No velocities found\n"
     ]
    }
   ],
   "source": [
    "%%bash\n",
    "module load gromacs\n",
    "\n",
    "gmx editconf -f em.gro -o em.pdb 2>/dev/null"
   ]
  },
  {
   "cell_type": "code",
   "execution_count": 66,
   "metadata": {
    "collapsed": false
   },
   "outputs": [
    {
     "ename": "ImportError",
     "evalue": "cannot import name invocation",
     "output_type": "error",
     "traceback": [
      "\u001b[0;31m---------------------------------------------------------------------------\u001b[0m",
      "\u001b[0;31mImportError\u001b[0m                               Traceback (most recent call last)",
      "\u001b[0;32m<ipython-input-66-db9992d4734d>\u001b[0m in \u001b[0;36m<module>\u001b[0;34m()\u001b[0m\n\u001b[1;32m      6\u001b[0m     \u001b[0msys\u001b[0m\u001b[0;34m.\u001b[0m\u001b[0mpath\u001b[0m\u001b[0;34m.\u001b[0m\u001b[0mappend\u001b[0m\u001b[0;34m(\u001b[0m\u001b[0mpymol_path\u001b[0m\u001b[0;34m)\u001b[0m\u001b[0;34m\u001b[0m\u001b[0m\n\u001b[1;32m      7\u001b[0m \u001b[0;34m\u001b[0m\u001b[0m\n\u001b[0;32m----> 8\u001b[0;31m \u001b[0mpymolPlotStructure\u001b[0m\u001b[0;34m(\u001b[0m\u001b[0;34m\"em.pdb\"\u001b[0m\u001b[0;34m)\u001b[0m\u001b[0;34m\u001b[0m\u001b[0m\n\u001b[0m",
      "\u001b[0;32m/root/notebooks/helpers/GromacsHelpers.py\u001b[0m in \u001b[0;36mpymolPlotStructure\u001b[0;34m(filename)\u001b[0m\n\u001b[1;32m     71\u001b[0m     \u001b[0m__main__\u001b[0m\u001b[0;34m.\u001b[0m\u001b[0mpymol_argv\u001b[0m \u001b[0;34m=\u001b[0m \u001b[0;34m[\u001b[0m\u001b[0;34m'pymol'\u001b[0m\u001b[0;34m,\u001b[0m\u001b[0;34m'-qc'\u001b[0m\u001b[0;34m]\u001b[0m \u001b[0;31m# Pymol: quiet and no GUI\u001b[0m\u001b[0;34m\u001b[0m\u001b[0m\n\u001b[1;32m     72\u001b[0m     \u001b[0;32mfrom\u001b[0m \u001b[0mtime\u001b[0m \u001b[0;32mimport\u001b[0m \u001b[0msleep\u001b[0m\u001b[0;34m\u001b[0m\u001b[0m\n\u001b[0;32m---> 73\u001b[0;31m     \u001b[0;32mimport\u001b[0m \u001b[0mpymol\u001b[0m\u001b[0;34m\u001b[0m\u001b[0m\n\u001b[0m\u001b[1;32m     74\u001b[0m     \u001b[0mpymol\u001b[0m\u001b[0;34m.\u001b[0m\u001b[0mfinish_launching\u001b[0m\u001b[0;34m(\u001b[0m\u001b[0;34m)\u001b[0m\u001b[0;34m\u001b[0m\u001b[0m\n\u001b[1;32m     75\u001b[0m     \u001b[0msys\u001b[0m\u001b[0;34m.\u001b[0m\u001b[0mstdout\u001b[0m \u001b[0;34m=\u001b[0m \u001b[0mstdout\u001b[0m\u001b[0;34m\u001b[0m\u001b[0m\n",
      "\u001b[0;32m/opt/conda3/4.2.12/envs/md-gmx-2016.2/lib/python2.7/site-packages/pymol/__init__.py\u001b[0m in \u001b[0;36m<module>\u001b[0;34m()\u001b[0m\n\u001b[1;32m     83\u001b[0m \u001b[0;32mimport\u001b[0m \u001b[0mmath\u001b[0m\u001b[0;34m\u001b[0m\u001b[0m\n\u001b[1;32m     84\u001b[0m \u001b[0;34m\u001b[0m\u001b[0m\n\u001b[0;32m---> 85\u001b[0;31m \u001b[0;32mfrom\u001b[0m \u001b[0;34m.\u001b[0m \u001b[0;32mimport\u001b[0m \u001b[0minvocation\u001b[0m\u001b[0;34m\u001b[0m\u001b[0m\n\u001b[0m\u001b[1;32m     86\u001b[0m \u001b[0;34m\u001b[0m\u001b[0m\n\u001b[1;32m     87\u001b[0m \u001b[0;32mdef\u001b[0m \u001b[0m_init_internals\u001b[0m\u001b[0;34m(\u001b[0m\u001b[0m_pymol\u001b[0m\u001b[0;34m)\u001b[0m\u001b[0;34m:\u001b[0m\u001b[0;34m\u001b[0m\u001b[0m\n",
      "\u001b[0;31mImportError\u001b[0m: cannot import name invocation"
     ]
    }
   ],
   "source": [
    "pymolPlotStructure(\"em.pdb\")"
   ]
  }
 ],
 "metadata": {
  "kernelspec": {
   "display_name": "Python [conda env:md-gmx-2016.2]",
   "language": "python",
   "name": "conda-env-md-gmx-2016.2-py"
  },
  "language_info": {
   "codemirror_mode": {
    "name": "ipython",
    "version": 2
   },
   "file_extension": ".py",
   "mimetype": "text/x-python",
   "name": "python",
   "nbconvert_exporter": "python",
   "pygments_lexer": "ipython2",
   "version": "2.7.12"
  }
 },
 "nbformat": 4,
 "nbformat_minor": 2
}
