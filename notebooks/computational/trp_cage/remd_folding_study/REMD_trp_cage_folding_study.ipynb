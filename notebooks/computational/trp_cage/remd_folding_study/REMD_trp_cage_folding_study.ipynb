{
 "cells": [
  {
   "cell_type": "markdown",
   "metadata": {},
   "source": [
    "## REMD Folding simulation of the TRP Cage protein\n",
    "The previous folding experiment (folding study with heavy hydrogen) for the trp cage have not yieled the correct folded structure so far. They have run for approximately 15uS of simulation time which is roughly 3x the time that the structures are expected to fold in reality.\n",
    "\n",
    "The probable cause for the failure to fold is that the OPLS/AA force field used results in a higher than physical melting temperature. The protein should melt at around 340K according to experiment, however some papers have shown that the using the OPLS/AA force field the melting temperature is more like 425K.\n",
    "\n",
    "This results in the simulation getting stuck in local minima and not progressing on to explore the whole confirmation space.\n",
    "\n",
    "---\n",
    "In this experiment we will use Replica Exchange MD to attempt to sample both high and low temperature confirmations to get the protein unstuck."
   ]
  },
  {
   "cell_type": "code",
   "execution_count": 30,
   "metadata": {
    "collapsed": false
   },
   "outputs": [],
   "source": [
    "# Preabmle to import our helper scripts and set up environment for a Gromacs simulation\n",
    "\n",
    "import os\n",
    "import sys\n",
    "module_path = os.path.abspath(os.path.join('../../..'))\n",
    "if module_path not in sys.path:\n",
    "    sys.path.append(module_path)\n",
    "    \n",
    "from helpers.GromacsHelpers import *\n",
    "%matplotlib inline"
   ]
  },
  {
   "cell_type": "markdown",
   "metadata": {},
   "source": [
    "We will start with the partially folded trp cage from the previous study rather than the linear protein as the partially folded structure will allow us to fit the protein in a smaller box with less water required to solvate it. This will in turn allow for faster simulations.\n",
    "\n",
    "We will also use heavy hydrogen to speed up the simulation time a little."
   ]
  },
  {
   "cell_type": "code",
   "execution_count": 32,
   "metadata": {
    "collapsed": false
   },
   "outputs": [
    {
     "name": "stdout",
     "output_type": "stream",
     "text": [
      "md_1_0.gro                                    100% 2746KB   2.7MB/s   00:00    \n",
      "md_1_0.tpr                                    100% 1211KB   1.2MB/s   00:00    \n"
     ]
    }
   ],
   "source": [
    "!scp psol3692@hpc.sydney.edu.au:/project/MDPF/trp_cage/folding_study/md_1_0.{gro,tpr} ."
   ]
  },
  {
   "cell_type": "code",
   "execution_count": 33,
   "metadata": {
    "collapsed": false
   },
   "outputs": [
    {
     "name": "stdout",
     "output_type": "stream",
     "text": [
      "Select group for centering\n",
      "Selected 1: 'Protein'\n",
      "Select group for output\n",
      "Selected 1: 'Protein'\n"
     ]
    },
    {
     "name": "stderr",
     "output_type": "stream",
     "text": [
      "                     :-) GROMACS - gmx trjconv, 2016.2 (-:\n",
      "\n",
      "                            GROMACS is written by:\n",
      "     Emile Apol      Rossen Apostolov  Herman J.C. Berendsen    Par Bjelkmar   \n",
      " Aldert van Buuren   Rudi van Drunen     Anton Feenstra    Gerrit Groenhof  \n",
      " Christoph Junghans   Anca Hamuraru    Vincent Hindriksen Dimitrios Karkoulis\n",
      "    Peter Kasson        Jiri Kraus      Carsten Kutzner      Per Larsson    \n",
      "  Justin A. Lemkul   Magnus Lundborg   Pieter Meulenhoff    Erik Marklund   \n",
      "   Teemu Murtola       Szilard Pall       Sander Pronk      Roland Schulz   \n",
      "  Alexey Shvetsov     Michael Shirts     Alfons Sijbers     Peter Tieleman  \n",
      "  Teemu Virolainen  Christian Wennberg    Maarten Wolf   \n",
      "                           and the project leaders:\n",
      "        Mark Abraham, Berk Hess, Erik Lindahl, and David van der Spoel\n",
      "\n",
      "Copyright (c) 1991-2000, University of Groningen, The Netherlands.\n",
      "Copyright (c) 2001-2015, The GROMACS development team at\n",
      "Uppsala University, Stockholm University and\n",
      "the Royal Institute of Technology, Sweden.\n",
      "check out http://www.gromacs.org for more information.\n",
      "\n",
      "GROMACS is free software; you can redistribute it and/or modify it\n",
      "under the terms of the GNU Lesser General Public License\n",
      "as published by the Free Software Foundation; either version 2.1\n",
      "of the License, or (at your option) any later version.\n",
      "\n",
      "GROMACS:      gmx trjconv, version 2016.2\n",
      "Executable:   /home/pauls/opt/gromacs/2016-2/bin/gmx\n",
      "Data prefix:  /home/pauls/opt/gromacs/2016-2\n",
      "Working dir:  /home/pauls/honours/notebooks/computational/trp_cage/remd_folding_study\n",
      "Command line:\n",
      "  gmx trjconv -f md_1_0.gro -s md_1_0.tpr -pbc mol -center true -o md_1_0.pdb\n",
      "\n",
      "Will write pdb: Protein data bank file\n",
      "Reading file md_1_0.tpr, VERSION 2016.2 (single precision)\n",
      "Reading file md_1_0.tpr, VERSION 2016.2 (single precision)\n",
      "Group     0 (         System) has 40748 elements\n",
      "Group     1 (        Protein) has   304 elements\n",
      "Group     2 (      Protein-H) has   154 elements\n",
      "Group     3 (        C-alpha) has    20 elements\n",
      "Group     4 (       Backbone) has    60 elements\n",
      "Group     5 (      MainChain) has    81 elements\n",
      "Group     6 (   MainChain+Cb) has    98 elements\n",
      "Group     7 (    MainChain+H) has    99 elements\n",
      "Group     8 (      SideChain) has   205 elements\n",
      "Group     9 (    SideChain-H) has    73 elements\n",
      "Group    10 (    Prot-Masses) has   304 elements\n",
      "Group    11 (    non-Protein) has 40444 elements\n",
      "Group    12 (          Water) has 40443 elements\n",
      "Group    13 (            SOL) has 40443 elements\n",
      "Group    14 (      non-Water) has   305 elements\n",
      "Group    15 (            Ion) has     1 elements\n",
      "Group    16 (             CL) has     1 elements\n",
      "Group    17 ( Water_and_ions) has 40444 elements\n",
      "Select a group: Group     0 (         System) has 40748 elements\n",
      "Group     1 (        Protein) has   304 elements\n",
      "Group     2 (      Protein-H) has   154 elements\n",
      "Group     3 (        C-alpha) has    20 elements\n",
      "Group     4 (       Backbone) has    60 elements\n",
      "Group     5 (      MainChain) has    81 elements\n",
      "Group     6 (   MainChain+Cb) has    98 elements\n",
      "Group     7 (    MainChain+H) has    99 elements\n",
      "Group     8 (      SideChain) has   205 elements\n",
      "Group     9 (    SideChain-H) has    73 elements\n",
      "Group    10 (    Prot-Masses) has   304 elements\n",
      "Group    11 (    non-Protein) has 40444 elements\n",
      "Group    12 (          Water) has 40443 elements\n",
      "Group    13 (            SOL) has 40443 elements\n",
      "Group    14 (      non-Water) has   305 elements\n",
      "Group    15 (            Ion) has     1 elements\n",
      "Group    16 (             CL) has     1 elements\n",
      "Group    17 ( Water_and_ions) has 40444 elements\n",
      "Select a group: Reading frames from gro file 'Protein in water', 40748 atoms.\n",
      "\r",
      "Reading frame       0 time    0.000   \n",
      "Precision of md_1_0.gro is 0.001 (nm)\n",
      " ->  frame      0 time    0.000      \r",
      "\r",
      "Last frame          0 time    0.000   \n",
      "\n",
      "\n",
      "GROMACS reminds you: \"Do You Have Sex Maniacs or Schizophrenics or Astrophysicists in Your Family?\" (Gogol Bordello)\n",
      "\n"
     ]
    }
   ],
   "source": [
    "%%bash\n",
    "module load gromacs\n",
    "\n",
    "gmx trjconv -f md_1_0.gro -s md_1_0.tpr -pbc mol -center true -o md_1_0.pdb <<< $'1\\n1\\n' "
   ]
  },
  {
   "cell_type": "code",
   "execution_count": 34,
   "metadata": {
    "collapsed": false
   },
   "outputs": [
    {
     "data": {
      "image/png": "[encoded data removed]",
      "text/plain": [
       "<IPython.core.display.Image object>"
      ]
     },
     "execution_count": 34,
     "metadata": {},
     "output_type": "execute_result"
    }
   ],
   "source": [
    "pymolPlotStructure(\"md_1_0.pdb\")"
   ]
  },
  {
   "cell_type": "code",
   "execution_count": 36,
   "metadata": {
    "collapsed": false
   },
   "outputs": [
    {
     "name": "stdout",
     "output_type": "stream",
     "text": [
      "\n",
      "Using the Oplsaa force field in directory oplsaa.ff\n",
      "\n",
      "Reading md_1_0.pdb...\n",
      "Read 'Protein in water t=   0.00000', 154 atoms\n",
      "Analyzing pdb file\n",
      "Splitting chemical chains based on TER records or chain id changing.\n",
      "There are 1 chains and 0 blocks of water and 20 residues with 154 atoms\n",
      "\n",
      "  chain  #res #atoms\n",
      "  1 ' '    20    154  \n",
      "\n",
      "Reading residue database... (oplsaa)\n",
      "Processing chain 1 (154 atoms, 20 residues)\n",
      "Identified residue ASN2 as a starting terminus.\n",
      "Identified residue SER21 as a ending terminus.\n",
      "Start terminus ASN-2: NH3+\n",
      "End terminus SER-21: COO-\n",
      "Checking for duplicate atoms....\n",
      "Generating any missing hydrogen atoms and/or adding termini.\n",
      "Now there are 20 residues with 304 atoms\n",
      "\t\t--------- PLEASE NOTE ------------\n",
      "You have successfully generated a topology from: md_1_0.pdb.\n",
      "The Oplsaa force field and the spce water model are used.\n",
      "\t\t--------- ETON ESAELP ------------\n"
     ]
    }
   ],
   "source": [
    "%%bash\n",
    "module load gromacs\n",
    "\n",
    "gmx pdb2gmx -f md_1_0.pdb -o trp_cage_processed.gro -ignh -heavyh -water spce -ff oplsaa 2>/dev/null"
   ]
  },
  {
   "cell_type": "code",
   "execution_count": 37,
   "metadata": {
    "collapsed": false
   },
   "outputs": [
    {
     "name": "stdout",
     "output_type": "stream",
     "text": [
      "Read 304 atoms\n",
      "Volume: 413.46 nm^3, corresponds to roughly 186000 electrons\n",
      "No velocities found\n",
      "    system size :  2.007  2.181  2.174 (nm)\n",
      "    diameter    :  2.581               (nm)\n",
      "    center      :  3.657  3.982  3.688 (nm)\n",
      "    box vectors :  7.450  7.450  7.450 (nm)\n",
      "    box angles  :  90.00  90.00  90.00 (degrees)\n",
      "    box volume  : 413.46               (nm^3)\n",
      "    shift       : -1.366 -1.691 -1.397 (nm)\n",
      "new center      :  2.290  2.290  2.290 (nm)\n",
      "new box vectors :  4.581  4.581  4.581 (nm)\n",
      "new box angles  :  90.00  90.00  90.00 (degrees)\n",
      "new box volume  :  96.13               (nm^3)\n",
      "\n",
      "WARNING: Masses and atomic (Van der Waals) radii will be guessed\n",
      "         based on residue and atom names, since they could not be\n",
      "         definitively assigned from the information in your input\n",
      "         files. These guessed numbers might deviate from the mass\n",
      "         and radius of the atom type. Please check the output\n",
      "         files if necessary.\n",
      "\n",
      "NOTE: From version 5.0 gmx solvate uses the Van der Waals radii\n",
      "from the source below. This means the results may be different\n",
      "compared to previous GROMACS versions.\n",
      "\n",
      "++++ PLEASE READ AND CITE THE FOLLOWING REFERENCE ++++\n",
      "A. Bondi\n",
      "van der Waals Volumes and Radii\n",
      "J. Phys. Chem. 68 (1964) pp. 441-451\n",
      "-------- -------- --- Thank You --- -------- --------\n",
      "\n",
      "Adding line for 3043 solvent molecules to topology file (topol.top)\n"
     ]
    }
   ],
   "source": [
    "%%bash\n",
    "module load gromacs\n",
    "\n",
    "gmx editconf -f trp_cage_processed.gro -o trp_cage_newbox.gro -c -d 1.0 -bt cubic 2>/dev/null\n",
    "gmx solvate -cp trp_cage_newbox.gro -cs spc216.gro -o trp_cage_solv.gro -p topol.top 2>/dev/null"
   ]
  },
  {
   "cell_type": "code",
   "execution_count": 6,
   "metadata": {
    "collapsed": false
   },
   "outputs": [
    {
     "name": "stdout",
     "output_type": "stream",
     "text": [
      "Writing em.mdp\n"
     ]
    }
   ],
   "source": [
    "%%file em.mdp\n",
    "; Parameters describing what to do, when to stop and what to save\n",
    "integrator  = steep     ; Algorithm (steep = steepest descent minimization)\n",
    "emtol       = 1000.0    ; Stop minimization when the maximum force < 1000.0 kJ/mol/nm\n",
    "emstep      = 0.01      ; Energy step size\n",
    "nsteps      = 50000     ; Maximum number of (minimization) steps to perform\n",
    "\n",
    "; Parameters describing how to find the neighbors of each atom and how to calculate the interactions\n",
    "nstlist         = 1         ; Frequency to update the neighbor list and long range forces\n",
    "cutoff-scheme   = Verlet\n",
    "ns_type         = grid      ; Method to determine neighbor list (simple, grid)\n",
    "coulombtype     = PME       ; Treatment of long range electrostatic interactions\n",
    "rcoulomb        = 1.0       ; Short-range electrostatic cut-off\n",
    "rvdw            = 1.0       ; Short-range Van der Waals cut-off\n",
    "pbc             = xyz       ; Periodic Boundary Conditions (yes/no)"
   ]
  },
  {
   "cell_type": "code",
   "execution_count": 38,
   "metadata": {
    "collapsed": false
   },
   "outputs": [
    {
     "name": "stdout",
     "output_type": "stream",
     "text": [
      "Analysing residue names:\n",
      "There are:    20    Protein residues\n",
      "There are:  3043      Water residues\n",
      "Analysing Protein...\n",
      "Calculating fourier grid dimensions for X Y Z\n",
      "Using a fourier grid of 40x40x40, spacing 0.115 0.115 0.115\n",
      "This run will generate roughly 1 Mb of data\n",
      "Will try to add 0 NA ions and 1 CL ions.\n",
      "Select a continuous group of solvent molecules\n",
      "Selected 13: 'SOL'\n",
      "\n",
      "Processing topology\n",
      "Replacing 1 solute molecules in topology file (topol.top)  by 0 NA and 1 CL ions.\n"
     ]
    }
   ],
   "source": [
    "%%bash\n",
    "module load gromacs\n",
    "\n",
    "gmx grompp -f em.mdp -c trp_cage_solv.gro -p topol.top -o ions.tpr 2>/dev/null\n",
    "gmx genion -s ions.tpr -o trp_cage_solv_ions.gro -p topol.top -pname NA -nname CL -nn 1 <<< $'13\\n' 2>/dev/null"
   ]
  },
  {
   "cell_type": "code",
   "execution_count": 39,
   "metadata": {
    "collapsed": false
   },
   "outputs": [
    {
     "name": "stdout",
     "output_type": "stream",
     "text": [
      "Analysing residue names:\n",
      "There are:    20    Protein residues\n",
      "There are:  3042      Water residues\n",
      "There are:     1        Ion residues\n",
      "Analysing Protein...\n",
      "Analysing residues not classified as Protein/DNA/RNA/Water and splitting into groups...\n",
      "Calculating fourier grid dimensions for X Y Z\n",
      "Using a fourier grid of 40x40x40, spacing 0.115 0.115 0.115\n",
      "This run will generate roughly 1 Mb of data\n"
     ]
    }
   ],
   "source": [
    "%%bash\n",
    "module load gromacs\n",
    "\n",
    "gmx grompp -f em.mdp -c trp_cage_solv_ions.gro -p topol.top -o em.tpr 2> /dev/null\n",
    "gmx mdrun -v -deffnm em"
   ]
  },
  {
   "cell_type": "code",
   "execution_count": 40,
   "metadata": {
    "collapsed": false
   },
   "outputs": [
    {
     "name": "stdout",
     "output_type": "stream",
     "text": [
      "\n",
      "Statistics over 282 steps [ 0.0000 through 281.0000 ps ], 1 data sets\n",
      "All statistics are over 223 points (frames)\n",
      "\n",
      "Energy                      Average   Err.Est.       RMSD  Tot-Drift\n",
      "-------------------------------------------------------------------------------\n",
      "Potential                   -146100       4400    12014.7     -28846  (kJ/mol)\n"
     ]
    }
   ],
   "source": [
    "%%bash\n",
    "module load gromacs\n",
    "\n",
    "gmx energy -f em.edr -o em.xvg <<< $'10\\n' 2>/dev/null"
   ]
  },
  {
   "cell_type": "code",
   "execution_count": 41,
   "metadata": {
    "collapsed": false
   },
   "outputs": [
    {
     "data": {
      "image/png": "[encoded data removed]",
      "text/plain": [
       "<matplotlib.figure.Figure at 0x7fd5d7e20e10>"
      ]
     },
     "metadata": {},
     "output_type": "display_data"
    }
   ],
   "source": [
    "plotFigure(\"em.xvg\")"
   ]
  },
  {
   "cell_type": "code",
   "execution_count": 42,
   "metadata": {
    "collapsed": false
   },
   "outputs": [
    {
     "name": "stdout",
     "output_type": "stream",
     "text": [
      "Overwriting nvt.mdp\n"
     ]
    }
   ],
   "source": [
    "%%file nvt.mdp\n",
    "define      = -DPOSRES  ; position restrain the protein\n",
    "; Run parameters\n",
    "integrator  = md        ; leap-frog integrator\n",
    "nsteps      = 20000     ; 2 * 20000 = 40 ps\n",
    "dt          = 0.006     ; 6 fs\n",
    "\n",
    "; Output control\n",
    "nstxout     = 500       ; save coordinates every 1.0 ps\n",
    "nstvout     = 500       ; save velocities every 1.0 ps\n",
    "nstenergy   = 500       ; save energies every 1.0 ps\n",
    "nstlog      = 500       ; update log file every 1.0 ps\n",
    "\n",
    "; Bond parameters\n",
    "continuation            = no        ; first dynamics run\n",
    "constraint_algorithm    = lincs     ; holonomic constraints \n",
    "constraints             = all-bonds ; all bonds (even heavy atom-H bonds) constrained\n",
    "lincs_iter              = 1         ; accuracy of LINCS\n",
    "lincs_order             = 4         ; also related to accuracy\n",
    "\n",
    "; Neighborsearching\n",
    "cutoff-scheme   = Verlet\n",
    "ns_type         = grid      ; search neighboring grid cells\n",
    "nstlist         = 10        ; 20 fs, largely irrelevant with Verlet\n",
    "rcoulomb        = 1.0       ; short-range electrostatic cutoff (in nm)\n",
    "rvdw            = 1.0       ; short-range van der Waals cutoff (in nm)\n",
    "\n",
    "; Electrostatics\n",
    "coulombtype     = PME   ; Particle Mesh Ewald for long-range electrostatics\n",
    "pme_order       = 4     ; cubic interpolation\n",
    "fourierspacing  = 0.16  ; grid spacing for FFT\n",
    "\n",
    "; Temperature coupling is on\n",
    "tcoupl      = V-rescale             ; modified Berendsen thermostat\n",
    "tc-grps     = Protein Non-Protein   ; two coupling groups - more accurate\n",
    "tau_t       = 0.1  0.1              ; time constant, in ps\n",
    "ref_t       = 325  325              ; reference temperature, one for each group, in K\n",
    "\n",
    "; Pressure coupling is off\n",
    "pcoupl      = no        ; no pressure coupling in NVT\n",
    "\n",
    "; Periodic boundary conditions\n",
    "pbc         = xyz       ; 3-D PBC\n",
    "\n",
    "; Dispersion correction\n",
    "DispCorr    = EnerPres  ; account for cut-off vdW scheme\n",
    "\n",
    "; Velocity generation\n",
    "gen_vel     = yes       ; assign velocities from Maxwell distribution\n",
    "gen_temp    = 325       ; temperature for Maxwell distribution\n",
    "gen_seed    = -1        ; generate a random seed"
   ]
  },
  {
   "cell_type": "code",
   "execution_count": 43,
   "metadata": {
    "collapsed": false,
    "scrolled": true
   },
   "outputs": [
    {
     "name": "stdout",
     "output_type": "stream",
     "text": [
      "turning all bonds into constraints...\n",
      "turning all bonds into constraints...\n",
      "turning all bonds into constraints...\n",
      "Analysing residue names:\n",
      "There are:    20    Protein residues\n",
      "There are:  3042      Water residues\n",
      "There are:     1        Ion residues\n",
      "Analysing Protein...\n",
      "Analysing residues not classified as Protein/DNA/RNA/Water and splitting into groups...\n",
      "Determining Verlet buffer for a tolerance of 0.005 kJ/mol/ps at 325 K\n",
      "Calculated rlist for 1x1 atom pair-list as 1.013 nm, buffer size 0.013 nm\n",
      "Set rlist, assuming 4x4 atom pair-list, to 1.000 nm, buffer size 0.000 nm\n",
      "Note that mdrun will redetermine rlist based on the actual pair-list setup\n",
      "Calculating fourier grid dimensions for X Y Z\n",
      "Using a fourier grid of 32x32x32, spacing 0.143 0.143 0.143\n",
      "This run will generate roughly 10 Mb of data\n"
     ]
    }
   ],
   "source": [
    "%%bash\n",
    "module load gromacs\n",
    "\n",
    "gmx grompp -f nvt.mdp -c em.gro -p topol.top -o nvt.tpr 2>/dev/null\n",
    "gmx mdrun -v -deffnm nvt"
   ]
  },
  {
   "cell_type": "code",
   "execution_count": 44,
   "metadata": {
    "collapsed": false
   },
   "outputs": [
    {
     "name": "stdout",
     "output_type": "stream",
     "text": [
      "\n",
      "Statistics over 20001 steps [ 0.0000 through 40.0000 ps ], 1 data sets\n",
      "All statistics are over 201 points\n",
      "\n",
      "Energy                      Average   Err.Est.       RMSD  Tot-Drift\n",
      "-------------------------------------------------------------------------------\n",
      "Temperature                 324.376       0.25    4.09634    1.41663  (K)\n"
     ]
    }
   ],
   "source": [
    "%%bash\n",
    "module load gromacs\n",
    "\n",
    "gmx energy -f nvt.edr -o nvt_temp.xvg <<< $'15\\n' 2>/dev/null"
   ]
  },
  {
   "cell_type": "code",
   "execution_count": 45,
   "metadata": {
    "collapsed": false
   },
   "outputs": [
    {
     "data": {
      "image/png": "[encoded data removed]",
      "text/plain": [
       "<matplotlib.figure.Figure at 0x7fd5d58b2a90>"
      ]
     },
     "metadata": {},
     "output_type": "display_data"
    }
   ],
   "source": [
    "plotFigure(\"nvt_temp.xvg\")"
   ]
  },
  {
   "cell_type": "code",
   "execution_count": 46,
   "metadata": {
    "collapsed": false
   },
   "outputs": [
    {
     "name": "stdout",
     "output_type": "stream",
     "text": [
      "Overwriting npt.mdp\n"
     ]
    }
   ],
   "source": [
    "%%file npt.mdp\n",
    "define      = -DPOSRES  ; position restrain the protein\n",
    "; Run parameters\n",
    "integrator  = md        ; leap-frog integrator\n",
    "nsteps      = 20000     ; 6 * 20000 = 120 ps\n",
    "dt          = 0.006     ; 6 fs\n",
    "\n",
    "; Output control\n",
    "nstxout     = 200       ; save coordinates every 1.2 ps\n",
    "nstvout     = 200       ; save velocities every 1.2 ps\n",
    "nstenergy   = 200       ; save energies every 1.2 ps\n",
    "nstlog      = 200       ; update log file every 1.2 ps\n",
    "\n",
    "; Bond parameters\n",
    "continuation            = yes       ; restarting acter NVT\n",
    "constraint_algorithm    = lincs     ; holonomic constraints \n",
    "constraints             = all-bonds ; all bonds (even heavy atom-H bonds) constrained\n",
    "lincs_iter              = 1         ; accuracy of LINCS\n",
    "lincs_order             = 4         ; also related to accuracy\n",
    "\n",
    "; Neighborsearching\n",
    "cutoff-scheme   = Verlet\n",
    "ns_type         = grid      ; search neighboring grid cells\n",
    "nstlist         = 10        ; 20 fs, largely irrelevant with Verlet\n",
    "rcoulomb        = 1.0       ; short-range electrostatic cutoff (in nm)\n",
    "rvdw            = 1.0       ; short-range van der Waals cutoff (in nm)\n",
    "\n",
    "; Electrostatics\n",
    "coulombtype     = PME   ; Particle Mesh Ewald for long-range electrostatics\n",
    "pme_order       = 4     ; cubic interpolation\n",
    "fourierspacing  = 0.16  ; grid spacing for FFT\n",
    "\n",
    "; Temperature coupling is on\n",
    "tcoupl      = V-rescale             ; modified Berendsen thermostat\n",
    "tc-grps     = Protein Non-Protein   ; two coupling groups - more accurate\n",
    "tau_t       = 0.1  0.1              ; time constant, in ps\n",
    "ref_t       = 325  325              ; reference temperature, one for each group, in K\n",
    "\n",
    "; Pressure coupling is on\n",
    "pcoupl              = Parrinello-Rahman     ; Pressure coupling on in NPT\n",
    "pcoupltype          = isotropic             ; uniform scaling of box vectors\n",
    "tau_p               = 2.0                   ; time constant, in ps\n",
    "ref_p               = 1.0                   ; reference pressure, in bar\n",
    "compressibility     = 4.5e-5                ; isothermal compressibility of water, bar^-1\n",
    "refcoord_scaling    = com\n",
    "\n",
    "; Periodic boundary conditions\n",
    "pbc         = xyz       ; 3-D PBC\n",
    "\n",
    "; Dispersion correction\n",
    "DispCorr    = EnerPres  ; account for cut-off vdW scheme\n",
    "\n",
    "; Velocity generation\n",
    "gen_vel     = no       ; Velocity generation is off"
   ]
  },
  {
   "cell_type": "code",
   "execution_count": 47,
   "metadata": {
    "collapsed": false
   },
   "outputs": [
    {
     "name": "stdout",
     "output_type": "stream",
     "text": [
      "turning all bonds into constraints...\n",
      "turning all bonds into constraints...\n",
      "turning all bonds into constraints...\n",
      "Analysing residue names:\n",
      "There are:    20    Protein residues\n",
      "There are:  3042      Water residues\n",
      "There are:     1        Ion residues\n",
      "Analysing Protein...\n",
      "Analysing residues not classified as Protein/DNA/RNA/Water and splitting into groups...\n",
      "Determining Verlet buffer for a tolerance of 0.005 kJ/mol/ps at 325 K\n",
      "Calculated rlist for 1x1 atom pair-list as 1.068 nm, buffer size 0.068 nm\n",
      "Set rlist, assuming 4x4 atom pair-list, to 1.016 nm, buffer size 0.016 nm\n",
      "Note that mdrun will redetermine rlist based on the actual pair-list setup\n",
      "Calculating fourier grid dimensions for X Y Z\n",
      "Using a fourier grid of 32x32x32, spacing 0.143 0.143 0.143\n",
      "This run will generate roughly 23 Mb of data\n"
     ]
    }
   ],
   "source": [
    "%%bash\n",
    "module load gromacs\n",
    "\n",
    "gmx grompp -f npt.mdp -c nvt.gro -t nvt.cpt -p topol.top -o npt.tpr 2>/dev/null\n",
    "gmx mdrun -v -deffnm npt"
   ]
  },
  {
   "cell_type": "code",
   "execution_count": 48,
   "metadata": {
    "collapsed": false
   },
   "outputs": [
    {
     "name": "stdout",
     "output_type": "stream",
     "text": [
      "\n",
      "Statistics over 20001 steps [ 0.0000 through 120.0000 ps ], 1 data sets\n",
      "All statistics are over 201 points\n",
      "\n",
      "Energy                      Average   Err.Est.       RMSD  Tot-Drift\n",
      "-------------------------------------------------------------------------------\n",
      "Pressure                    24.6102         22    293.923   -125.432  (bar)\n",
      "\n",
      "Statistics over 20001 steps [ 0.0000 through 120.0000 ps ], 1 data sets\n",
      "All statistics are over 201 points\n",
      "\n",
      "Energy                      Average   Err.Est.       RMSD  Tot-Drift\n",
      "-------------------------------------------------------------------------------\n",
      "Density                     995.265       0.39     5.3344   -1.30603  (kg/m^3)\n"
     ]
    }
   ],
   "source": [
    "%%bash\n",
    "module load gromacs\n",
    "\n",
    "gmx energy -f npt.edr -o npt_pres.xvg <<< $'16\\n' 2>/dev/null\n",
    "gmx energy -f npt.edr -o npt_dens.xvg <<< $'22\\n' 2>/dev/null"
   ]
  },
  {
   "cell_type": "code",
   "execution_count": 49,
   "metadata": {
    "collapsed": false
   },
   "outputs": [
    {
     "data": {
      "image/png": "[encoded data removed]",
      "text/plain": [
       "<matplotlib.figure.Figure at 0x7fd5d550fe10>"
      ]
     },
     "metadata": {},
     "output_type": "display_data"
    }
   ],
   "source": [
    "plotFigure(\"npt_pres.xvg\")"
   ]
  },
  {
   "cell_type": "code",
   "execution_count": 50,
   "metadata": {
    "collapsed": false
   },
   "outputs": [
    {
     "data": {
      "image/png": "[encoded data removed]",
      "text/plain": [
       "<matplotlib.figure.Figure at 0x7fd5d4c8ffd0>"
      ]
     },
     "metadata": {},
     "output_type": "display_data"
    }
   ],
   "source": [
    "plotFigure(\"npt_dens.xvg\")"
   ]
  },
  {
   "cell_type": "markdown",
   "metadata": {},
   "source": [
    "We should now have an equilibrated system ready to perform a REMD run on. For REMD we need to set up a series of parallel simulations running at different temperatures. The temperature series that we will use was calculates at http://folding.bmc.uu.se/remd/ and is 300.00, 303.15, 306.33, 309.52, 312.75, 316.00, 319.26, 322.57, 325.91, 329.27, 332.67, 336.10, 339.55, 343.03, 346.53, 350.08, 353.65, 357.25, 360.88, 364.54, 368.23, 371.96, 375.71, 379.50, 383.31, 387.17, 391.06, 394.98, 398.93, 402.91, 406.93, 410.98, 415.07, 419.19, 423.35, 427.55, 431.78, 436.05, 440.35, 444.69, 449.07, 453.48, 457.93, 462.42, 466.95, 471.52, 476.12, 480.77, 485.45, 490.18, 494.95, 499.76, 504.61, 509.49, 514.42, 519.40, 524.42, 529.47, 534.58, 539.72, 544.92, 550.15, 555.45, 560.78, 566.15, 571.57, 577.03, 582.55, 588.11, 593.72, 599.39, 605.09\n",
    "\n",
    "To start with we need to create a folder (or file) for each temperature and then run equilibration runs of approx 100ps for each temperature."
   ]
  },
  {
   "cell_type": "code",
   "execution_count": 51,
   "metadata": {
    "collapsed": true
   },
   "outputs": [],
   "source": [
    "!mkdir stage1"
   ]
  },
  {
   "cell_type": "code",
   "execution_count": 52,
   "metadata": {
    "collapsed": false
   },
   "outputs": [
    {
     "name": "stdout",
     "output_type": "stream",
     "text": [
      "/home/pauls/honours/notebooks/computational/trp_cage/remd_folding_study/stage1\n"
     ]
    }
   ],
   "source": [
    "cd stage1"
   ]
  },
  {
   "cell_type": "code",
   "execution_count": 130,
   "metadata": {
    "collapsed": false
   },
   "outputs": [
    {
     "name": "stdout",
     "output_type": "stream",
     "text": [
      "Overwriting equil.mdp\n"
     ]
    }
   ],
   "source": [
    "%%file equil.mdp\n",
    "define      = -DPOSRES  ; position restrain the protein\n",
    "; Run parameters\n",
    "integrator  = md        ; leap-frog integrator\n",
    "nsteps      = 25000     ; 4 * 25000 = 100 ps\n",
    "dt          = 0.004     ; 4 fs\n",
    "\n",
    "; Output control\n",
    "nstxout     = 250       ; save coordinates every 1.0 ps\n",
    "nstvout     = 250       ; save velocities every 1.0 ps\n",
    "nstcalcenergy = 50      \n",
    "nstenergy   = 250       ; save energies every 1.0 ps\n",
    "nstlog      = 250       ; update log file every 1.0 ps\n",
    "\n",
    "; Bond parameters\n",
    "continuation            = yes       ; restarting acter NVT\n",
    "constraint_algorithm    = lincs     ; holonomic constraints \n",
    "constraints             = all-bonds ; all bonds (even heavy atom-H bonds) constrained\n",
    "lincs_iter              = 1         ; accuracy of LINCS\n",
    "lincs_order             = 4         ; also related to accuracy\n",
    "\n",
    "; Neighborsearching\n",
    "cutoff-scheme   = Verlet\n",
    "ns_type         = grid      ; search neighboring grid cells\n",
    "nstlist         = 10        ; 20 fs, largely irrelevant with Verlet\n",
    "rcoulomb        = 1.0       ; short-range electrostatic cutoff (in nm)\n",
    "rvdw            = 1.0       ; short-range van der Waals cutoff (in nm)\n",
    "\n",
    "; Electrostatics\n",
    "coulombtype     = PME   ; Particle Mesh Ewald for long-range electrostatics\n",
    "pme_order       = 4     ; cubic interpolation\n",
    "fourierspacing  = 0.16  ; grid spacing for FFT\n",
    "\n",
    "; Temperature coupling is on\n",
    "tcoupl      = V-rescale             ; modified Berendsen thermostat\n",
    "tc-grps     = Protein Non-Protein   ; two coupling groups - more accurate\n",
    "tau_t       = 0.1  0.1              ; time constant, in ps\n",
    "ref_t       = REF_TEMP REF_TEMP              ; reference temperature, one for each group, in K\n",
    "\n",
    "; Pressure coupling is on\n",
    "pcoupl              = Parrinello-Rahman     ; Pressure coupling on in NPT\n",
    "pcoupltype          = isotropic             ; uniform scaling of box vectors\n",
    "tau_p               = 2.0                   ; time constant, in ps\n",
    "ref_p               = 1.0                   ; reference pressure, in bar\n",
    "compressibility     = 4.5e-5                ; isothermal compressibility of water, bar^-1\n",
    "refcoord_scaling    = com\n",
    "\n",
    "; Periodic boundary conditions\n",
    "pbc         = xyz       ; 3-D PBC\n",
    "\n",
    "; Dispersion correction\n",
    "DispCorr    = EnerPres  ; account for cut-off vdW scheme\n",
    "\n",
    "; Velocity generation\n",
    "gen_vel     = no       ; Velocity generation is off"
   ]
  },
  {
   "cell_type": "markdown",
   "metadata": {},
   "source": [
    "generate all of the mdp files each with their own unique ref_t"
   ]
  },
  {
   "cell_type": "code",
   "execution_count": 132,
   "metadata": {
    "collapsed": false
   },
   "outputs": [],
   "source": [
    "%%bash\n",
    "\n",
    "temps=\"300.00, 303.15, 306.33, 309.52, 312.75, 316.00, 319.26, 322.57, 325.91, 329.27, 332.67, 336.10, 339.55, 343.03, 346.53, 350.08, 353.65, 357.25, 360.88, 364.54, 368.23, 371.96, 375.71, 379.50, 383.31, 387.17, 391.06, 394.98, 398.93, 402.91, 406.93, 410.98, 415.07, 419.19, 423.35, 427.55, 431.78, 436.05, 440.35, 444.69, 449.07, 453.48, 457.93, 462.42, 466.95, 471.52, 476.12, 480.77, 485.45, 490.18, 494.95, 499.76, 504.61, 509.49, 514.42, 519.40, 524.42, 529.47, 534.58, 539.72, 544.92, 550.15, 555.45, 560.78, 566.15, 571.57, 577.03, 582.55, 588.11, 593.72, 599.39, 605.09\"\n",
    "temp_array=($(echo $temps | sed \"s/,//g\"))\n",
    "for ((i = 0; i < ${#temp_array[@]}; ++i)); do\n",
    "    # call your procedure/other scripts here below\n",
    "    idx=$i\n",
    "    temp=${temp_array[$i]}\n",
    "    sed \"s/REF_TEMP/$temp/g\" equil.mdp > \"equil$idx.mdp\"\n",
    "done"
   ]
  },
  {
   "cell_type": "markdown",
   "metadata": {},
   "source": [
    "Generate all of the tpr files required to do a mdrun"
   ]
  },
  {
   "cell_type": "code",
   "execution_count": 133,
   "metadata": {
    "collapsed": false
   },
   "outputs": [],
   "source": [
    "%%bash\n",
    "module load gromacs\n",
    "\n",
    "for i in {0..71}; do\n",
    "    gmx grompp -f equil$i -c npt.gro -p topol.top -o equil$i.tpr > /dev/null 2>&1\n",
    "done"
   ]
  },
  {
   "cell_type": "code",
   "execution_count": 134,
   "metadata": {
    "collapsed": false,
    "scrolled": true
   },
   "outputs": [
    {
     "name": "stdout",
     "output_type": "stream",
     "text": [
      "-rw-rw-r-- 1 pauls pauls 379376 Apr  3 15:07 equil0.tpr\r\n",
      "-rw-rw-r-- 1 pauls pauls 379376 Apr  3 15:07 equil10.tpr\r\n",
      "-rw-rw-r-- 1 pauls pauls 379376 Apr  3 15:07 equil11.tpr\r\n",
      "-rw-rw-r-- 1 pauls pauls 379376 Apr  3 15:07 equil12.tpr\r\n",
      "-rw-rw-r-- 1 pauls pauls 379376 Apr  3 15:07 equil13.tpr\r\n",
      "-rw-rw-r-- 1 pauls pauls 379376 Apr  3 15:07 equil14.tpr\r\n",
      "-rw-rw-r-- 1 pauls pauls 379376 Apr  3 15:07 equil15.tpr\r\n",
      "-rw-rw-r-- 1 pauls pauls 379376 Apr  3 15:07 equil16.tpr\r\n",
      "-rw-rw-r-- 1 pauls pauls 379376 Apr  3 15:07 equil17.tpr\r\n",
      "-rw-rw-r-- 1 pauls pauls 379376 Apr  3 15:07 equil18.tpr\r\n",
      "-rw-rw-r-- 1 pauls pauls 379376 Apr  3 15:07 equil19.tpr\r\n",
      "-rw-rw-r-- 1 pauls pauls 379376 Apr  3 15:07 equil1.tpr\r\n",
      "-rw-rw-r-- 1 pauls pauls 379376 Apr  3 15:07 equil20.tpr\r\n",
      "-rw-rw-r-- 1 pauls pauls 379376 Apr  3 15:07 equil21.tpr\r\n",
      "-rw-rw-r-- 1 pauls pauls 379376 Apr  3 15:07 equil22.tpr\r\n",
      "-rw-rw-r-- 1 pauls pauls 379376 Apr  3 15:07 equil23.tpr\r\n",
      "-rw-rw-r-- 1 pauls pauls 379376 Apr  3 15:07 equil24.tpr\r\n",
      "-rw-rw-r-- 1 pauls pauls 379376 Apr  3 15:07 equil25.tpr\r\n",
      "-rw-rw-r-- 1 pauls pauls 379376 Apr  3 15:07 equil26.tpr\r\n",
      "-rw-rw-r-- 1 pauls pauls 379376 Apr  3 15:07 equil27.tpr\r\n",
      "-rw-rw-r-- 1 pauls pauls 379376 Apr  3 15:07 equil28.tpr\r\n",
      "-rw-rw-r-- 1 pauls pauls 379376 Apr  3 15:07 equil29.tpr\r\n",
      "-rw-rw-r-- 1 pauls pauls 379376 Apr  3 15:07 equil2.tpr\r\n",
      "-rw-rw-r-- 1 pauls pauls 379376 Apr  3 15:07 equil30.tpr\r\n",
      "-rw-rw-r-- 1 pauls pauls 379376 Apr  3 15:07 equil31.tpr\r\n",
      "-rw-rw-r-- 1 pauls pauls 379376 Apr  3 15:07 equil32.tpr\r\n",
      "-rw-rw-r-- 1 pauls pauls 379376 Apr  3 15:07 equil33.tpr\r\n",
      "-rw-rw-r-- 1 pauls pauls 379376 Apr  3 15:07 equil34.tpr\r\n",
      "-rw-rw-r-- 1 pauls pauls 379376 Apr  3 15:07 equil35.tpr\r\n",
      "-rw-rw-r-- 1 pauls pauls 379376 Apr  3 15:07 equil36.tpr\r\n",
      "-rw-rw-r-- 1 pauls pauls 379376 Apr  3 15:07 equil37.tpr\r\n",
      "-rw-rw-r-- 1 pauls pauls 379376 Apr  3 15:07 equil38.tpr\r\n",
      "-rw-rw-r-- 1 pauls pauls 379376 Apr  3 15:07 equil39.tpr\r\n",
      "-rw-rw-r-- 1 pauls pauls 379376 Apr  3 15:07 equil3.tpr\r\n",
      "-rw-rw-r-- 1 pauls pauls 379376 Apr  3 15:07 equil40.tpr\r\n",
      "-rw-rw-r-- 1 pauls pauls 379376 Apr  3 15:07 equil41.tpr\r\n",
      "-rw-rw-r-- 1 pauls pauls 379376 Apr  3 15:07 equil42.tpr\r\n",
      "-rw-rw-r-- 1 pauls pauls 379376 Apr  3 15:07 equil43.tpr\r\n",
      "-rw-rw-r-- 1 pauls pauls 379376 Apr  3 15:07 equil44.tpr\r\n",
      "-rw-rw-r-- 1 pauls pauls 379376 Apr  3 15:07 equil45.tpr\r\n",
      "-rw-rw-r-- 1 pauls pauls 379376 Apr  3 15:07 equil46.tpr\r\n",
      "-rw-rw-r-- 1 pauls pauls 379376 Apr  3 15:07 equil47.tpr\r\n",
      "-rw-rw-r-- 1 pauls pauls 379376 Apr  3 15:07 equil48.tpr\r\n",
      "-rw-rw-r-- 1 pauls pauls 379376 Apr  3 15:07 equil49.tpr\r\n",
      "-rw-rw-r-- 1 pauls pauls 379376 Apr  3 15:07 equil4.tpr\r\n",
      "-rw-rw-r-- 1 pauls pauls 379376 Apr  3 15:07 equil50.tpr\r\n",
      "-rw-rw-r-- 1 pauls pauls 379376 Apr  3 15:07 equil51.tpr\r\n",
      "-rw-rw-r-- 1 pauls pauls 379376 Apr  3 15:07 equil52.tpr\r\n",
      "-rw-rw-r-- 1 pauls pauls 379376 Apr  3 15:07 equil53.tpr\r\n",
      "-rw-rw-r-- 1 pauls pauls 379376 Apr  3 15:07 equil54.tpr\r\n",
      "-rw-rw-r-- 1 pauls pauls 379376 Apr  3 15:07 equil55.tpr\r\n",
      "-rw-rw-r-- 1 pauls pauls 379376 Apr  3 15:07 equil56.tpr\r\n",
      "-rw-rw-r-- 1 pauls pauls 379376 Apr  3 15:07 equil57.tpr\r\n",
      "-rw-rw-r-- 1 pauls pauls 379376 Apr  3 15:07 equil58.tpr\r\n",
      "-rw-rw-r-- 1 pauls pauls 379376 Apr  3 15:07 equil59.tpr\r\n",
      "-rw-rw-r-- 1 pauls pauls 379376 Apr  3 15:07 equil5.tpr\r\n",
      "-rw-rw-r-- 1 pauls pauls 379376 Apr  3 15:07 equil60.tpr\r\n",
      "-rw-rw-r-- 1 pauls pauls 379376 Apr  3 15:07 equil61.tpr\r\n",
      "-rw-rw-r-- 1 pauls pauls 379376 Apr  3 15:07 equil62.tpr\r\n",
      "-rw-rw-r-- 1 pauls pauls 379376 Apr  3 15:07 equil63.tpr\r\n",
      "-rw-rw-r-- 1 pauls pauls 379376 Apr  3 15:07 equil64.tpr\r\n",
      "-rw-rw-r-- 1 pauls pauls 379376 Apr  3 15:07 equil65.tpr\r\n",
      "-rw-rw-r-- 1 pauls pauls 379376 Apr  3 15:07 equil66.tpr\r\n",
      "-rw-rw-r-- 1 pauls pauls 379376 Apr  3 15:07 equil67.tpr\r\n",
      "-rw-rw-r-- 1 pauls pauls 379376 Apr  3 15:07 equil68.tpr\r\n",
      "-rw-rw-r-- 1 pauls pauls 379376 Apr  3 15:07 equil69.tpr\r\n",
      "-rw-rw-r-- 1 pauls pauls 379376 Apr  3 15:07 equil6.tpr\r\n",
      "-rw-rw-r-- 1 pauls pauls 379376 Apr  3 15:07 equil70.tpr\r\n",
      "-rw-rw-r-- 1 pauls pauls 379376 Apr  3 15:07 equil71.tpr\r\n",
      "-rw-rw-r-- 1 pauls pauls 379376 Apr  3 15:07 equil7.tpr\r\n",
      "-rw-rw-r-- 1 pauls pauls 379376 Apr  3 15:07 equil8.tpr\r\n",
      "-rw-rw-r-- 1 pauls pauls 379376 Apr  3 15:07 equil9.tpr\r\n"
     ]
    }
   ],
   "source": [
    "ls -l *.tpr"
   ]
  },
  {
   "cell_type": "code",
   "execution_count": 128,
   "metadata": {
    "collapsed": false
   },
   "outputs": [
    {
     "name": "stdout",
     "output_type": "stream",
     "text": [
      "turning all bonds into constraints...\n",
      "turning all bonds into constraints...\n",
      "turning all bonds into constraints...\n",
      "Analysing residue names:\n",
      "There are:    20    Protein residues\n",
      "There are:  3042      Water residues\n",
      "There are:     1        Ion residues\n",
      "Analysing Protein...\n",
      "Analysing residues not classified as Protein/DNA/RNA/Water and splitting into groups...\n",
      "Determining Verlet buffer for a tolerance of 0.005 kJ/mol/ps at 300 K\n",
      "Calculated rlist for 1x1 atom pair-list as 1.036 nm, buffer size 0.036 nm\n",
      "Set rlist, assuming 4x4 atom pair-list, to 1.000 nm, buffer size 0.000 nm\n",
      "Note that mdrun will redetermine rlist based on the actual pair-list setup\n",
      "Calculating fourier grid dimensions for X Y Z\n",
      "Using a fourier grid of 32x32x32, spacing 0.143 0.143 0.143\n",
      "This run will generate roughly 23 Mb of data\n"
     ]
    }
   ],
   "source": [
    "%%bash\n",
    "module load gromacs\n",
    "\n",
    "gmx mdrun -v -multi 72 -deffnm equil"
   ]
  },
  {
   "cell_type": "code",
   "execution_count": null,
   "metadata": {
    "collapsed": true
   },
   "outputs": [],
   "source": []
  },
  {
   "cell_type": "code",
   "execution_count": null,
   "metadata": {
    "collapsed": true
   },
   "outputs": [],
   "source": []
  }
 ],
 "metadata": {
  "kernelspec": {
   "display_name": "Python [conda env:md]",
   "language": "python",
   "name": "conda-env-md-py"
  },
  "language_info": {
   "codemirror_mode": {
    "name": "ipython",
    "version": 2
   },
   "file_extension": ".py",
   "mimetype": "text/x-python",
   "name": "python",
   "nbconvert_exporter": "python",
   "pygments_lexer": "ipython2",
   "version": "2.7.12"
  }
 },
 "nbformat": 4,
 "nbformat_minor": 2
}
