{
 "cells": [
  {
   "cell_type": "markdown",
   "metadata": {},
   "source": [
    "How to compile and install Gromacs on an ubuntu amazon p2 server with cuda support\n",
    "-------"
   ]
  },
  {
   "cell_type": "code",
   "execution_count": null,
   "metadata": {
    "collapsed": true
   },
   "outputs": [],
   "source": [
    "import os;"
   ]
  },
  {
   "cell_type": "code",
   "execution_count": 32,
   "metadata": {
    "collapsed": false
   },
   "outputs": [
    {
     "name": "stdout",
     "output_type": "stream",
     "text": [
      "Reading package lists... Done\n",
      "Building dependency tree       \n",
      "Reading state information... Done\n",
      "build-essential is already the newest version (12.1ubuntu2).\n",
      "cmake is already the newest version (3.5.1-1ubuntu3).\n",
      "cuda-nvml-dev-8-0 is already the newest version (8.0.44-1).\n",
      "cuda-nvml-dev-8-0 set to manually installed.\n",
      "0 upgraded, 0 newly installed, 0 to remove and 110 not upgraded.\n"
     ]
    }
   ],
   "source": [
    "!{\"sudo apt-get -y install cmake build-essential gcc g++ cuda-nvml-dev-8-0 libhwloc-dev libopenmpi-dev\"}"
   ]
  },
  {
   "cell_type": "code",
   "execution_count": 12,
   "metadata": {
    "collapsed": false
   },
   "outputs": [
    {
     "name": "stdout",
     "output_type": "stream",
     "text": [
      "cmake version 3.5.1\r\n",
      "\r\n",
      "CMake suite maintained and supported by Kitware (kitware.com/cmake).\r\n"
     ]
    }
   ],
   "source": [
    "!{\"cmake --version\"}"
   ]
  },
  {
   "cell_type": "code",
   "execution_count": 13,
   "metadata": {
    "collapsed": false
   },
   "outputs": [
    {
     "name": "stdout",
     "output_type": "stream",
     "text": [
      "gcc (Ubuntu 5.4.0-6ubuntu1~16.04.4) 5.4.0 20160609\r\n",
      "Copyright (C) 2015 Free Software Foundation, Inc.\r\n",
      "This is free software; see the source for copying conditions.  There is NO\r\n",
      "warranty; not even for MERCHANTABILITY or FITNESS FOR A PARTICULAR PURPOSE.\r\n",
      "\r\n"
     ]
    }
   ],
   "source": [
    "!{\"gcc --version\"}"
   ]
  },
  {
   "cell_type": "code",
   "execution_count": 14,
   "metadata": {
    "collapsed": false
   },
   "outputs": [
    {
     "name": "stdout",
     "output_type": "stream",
     "text": [
      "--2017-02-16 12:10:01--  http://ftp.gromacs.org/pub/gromacs/gromacs-2016.2.tar.gz\n",
      "Resolving ftp.gromacs.org (ftp.gromacs.org)... 130.237.25.126, 2001:6b0:1:1190:5054:ff:fe2f:daed\n",
      "Connecting to ftp.gromacs.org (ftp.gromacs.org)|130.237.25.126|:80... connected.\n",
      "HTTP request sent, awaiting response... 200 OK\n",
      "Length: 27339623 (26M) [application/octet-stream]\n",
      "Saving to: ‘gromacs-2016.2.tar.gz’\n",
      "\n",
      "gromacs-2016.2.tar. 100%[===================>]  26.07M  6.93MB/s    in 4.5s    \n",
      "\n",
      "2017-02-16 12:10:08 (5.77 MB/s) - ‘gromacs-2016.2.tar.gz’ saved [27339623/27339623]\n",
      "\n"
     ]
    }
   ],
   "source": [
    "!{\"wget http://ftp.gromacs.org/pub/gromacs/gromacs-2016.2.tar.gz\"}"
   ]
  },
  {
   "cell_type": "code",
   "execution_count": 35,
   "metadata": {
    "collapsed": false
   },
   "outputs": [
    {
     "name": "stdout",
     "output_type": "stream",
     "text": [
      "tar (child): gromacs-2016.2.tar.gz: Cannot open: No such file or directory\r\n",
      "tar (child): Error is not recoverable: exiting now\r\n",
      "tar: Child returned status 2\r\n",
      "tar: Error is not recoverable: exiting now\r\n"
     ]
    }
   ],
   "source": [
    "!{\"tar xzf gromacs-2016.2.tar.gz\"}"
   ]
  },
  {
   "cell_type": "code",
   "execution_count": 26,
   "metadata": {
    "collapsed": false
   },
   "outputs": [
    {
     "name": "stdout",
     "output_type": "stream",
     "text": [
      "/home/ubuntu/gromacs/gromacs-2016.2\n"
     ]
    }
   ],
   "source": [
    "cd gromacs-2016.2/"
   ]
  },
  {
   "cell_type": "code",
   "execution_count": 23,
   "metadata": {
    "collapsed": false
   },
   "outputs": [],
   "source": [
    "!{\"mkdir build\"}"
   ]
  },
  {
   "cell_type": "code",
   "execution_count": 27,
   "metadata": {
    "collapsed": false
   },
   "outputs": [
    {
     "name": "stdout",
     "output_type": "stream",
     "text": [
      "/home/ubuntu/gromacs/gromacs-2016.2/build\n"
     ]
    }
   ],
   "source": [
    "cd build/"
   ]
  },
  {
   "cell_type": "markdown",
   "metadata": {},
   "source": [
    "<div class=\"alert alert-warning\">\n",
    "WARNING: Anaconda interfers with the build process and you must run all of the build commands in an environment where anaconda is excluded from the path.\n",
    "</div>"
   ]
  },
  {
   "cell_type": "code",
   "execution_count": 28,
   "metadata": {
    "collapsed": false
   },
   "outputs": [
    {
     "data": {
      "text/plain": [
       "'/home/ubuntu/bin:/home/ubuntu/.local/bin:/usr/local/cuda/bin:/usr/local/sbin:/usr/local/bin:/usr/sbin:/usr/bin:/sbin:/bin:/usr/games:/usr/local/games:/snap/bin'"
      ]
     },
     "execution_count": 28,
     "metadata": {},
     "output_type": "execute_result"
    }
   ],
   "source": [
    "p = os.path.expandvars(\"$PATH\")\n",
    "path_list = p.split(\":\")\n",
    "cleaned_path_list = [ path for path in path_list if \"anaconda\" not in path ]\n",
    "cleaned_path = \":\".join(cleaned_path_list)\n",
    "cleaned_path\n"
   ]
  },
  {
   "cell_type": "code",
   "execution_count": 29,
   "metadata": {
    "collapsed": false
   },
   "outputs": [
    {
     "name": "stdout",
     "output_type": "stream",
     "text": [
      "-- The GROMACS-managed build of FFTW 3 will configure with the following optimizations: --enable-sse2;--enable-avx;--enable-avx2;--enable-avx512\n",
      "Downloading: http://gerrit.gromacs.org/download/regressiontests-2016.2.tar.gz\n",
      "-- [download 100% complete]\n",
      "-- [download 0% complete]\n",
      "-- [download 1% complete]\n",
      "-- [download 2% complete]\n",
      "-- [download 3% complete]\n",
      "-- [download 4% complete]\n",
      "-- [download 5% complete]\n",
      "-- [download 6% complete]\n",
      "-- [download 7% complete]\n",
      "-- [download 8% complete]\n",
      "-- [download 9% complete]\n",
      "-- [download 10% complete]\n",
      "-- [download 11% complete]\n",
      "-- [download 12% complete]\n",
      "-- [download 13% complete]\n",
      "-- [download 14% complete]\n",
      "-- [download 15% complete]\n",
      "-- [download 16% complete]\n",
      "-- [download 17% complete]\n",
      "-- [download 18% complete]\n",
      "-- [download 19% complete]\n",
      "-- [download 20% complete]\n",
      "-- [download 21% complete]\n",
      "-- [download 22% complete]\n",
      "-- [download 23% complete]\n",
      "-- [download 24% complete]\n",
      "-- [download 25% complete]\n",
      "-- [download 26% complete]\n",
      "-- [download 27% complete]\n",
      "-- [download 28% complete]\n",
      "-- [download 29% complete]\n",
      "-- [download 30% complete]\n",
      "-- [download 31% complete]\n",
      "-- [download 32% complete]\n",
      "-- [download 33% complete]\n",
      "-- [download 34% complete]\n",
      "-- [download 35% complete]\n",
      "-- [download 36% complete]\n",
      "-- [download 37% complete]\n",
      "-- [download 38% complete]\n",
      "-- [download 39% complete]\n",
      "-- [download 40% complete]\n",
      "-- [download 41% complete]\n",
      "-- [download 42% complete]\n",
      "-- [download 43% complete]\n",
      "-- [download 44% complete]\n",
      "-- [download 45% complete]\n",
      "-- [download 46% complete]\n",
      "-- [download 47% complete]\n",
      "-- [download 48% complete]\n",
      "-- [download 49% complete]\n",
      "-- [download 50% complete]\n",
      "-- [download 51% complete]\n",
      "-- [download 52% complete]\n",
      "-- [download 53% complete]\n",
      "-- [download 54% complete]\n",
      "-- [download 55% complete]\n",
      "-- [download 56% complete]\n",
      "-- [download 57% complete]\n",
      "-- [download 58% complete]\n",
      "-- [download 59% complete]\n",
      "-- [download 60% complete]\n",
      "-- [download 61% complete]\n",
      "-- [download 62% complete]\n",
      "-- [download 63% complete]\n",
      "-- [download 64% complete]\n",
      "-- [download 65% complete]\n",
      "-- [download 66% complete]\n",
      "-- [download 67% complete]\n",
      "-- [download 68% complete]\n",
      "-- [download 69% complete]\n",
      "-- [download 70% complete]\n",
      "-- [download 71% complete]\n",
      "-- [download 72% complete]\n",
      "-- [download 73% complete]\n",
      "-- [download 74% complete]\n",
      "-- [download 75% complete]\n",
      "-- [download 76% complete]\n",
      "-- [download 77% complete]\n",
      "-- [download 78% complete]\n",
      "-- [download 79% complete]\n",
      "-- [download 80% complete]\n",
      "-- [download 81% complete]\n",
      "-- [download 82% complete]\n",
      "-- [download 83% complete]\n",
      "-- [download 84% complete]\n",
      "-- [download 85% complete]\n",
      "-- [download 86% complete]\n",
      "-- [download 87% complete]\n",
      "-- [download 88% complete]\n",
      "-- [download 89% complete]\n",
      "-- [download 90% complete]\n",
      "-- [download 91% complete]\n",
      "-- [download 92% complete]\n",
      "-- [download 93% complete]\n",
      "-- [download 94% complete]\n",
      "-- [download 95% complete]\n",
      "-- [download 96% complete]\n",
      "-- [download 97% complete]\n",
      "-- [download 98% complete]\n",
      "-- [download 99% complete]\n",
      "-- [download 100% complete]\n",
      "-- Configuring done\n",
      "-- Generating done\n",
      "-- Build files have been written to: /home/ubuntu/gromacs/gromacs-2016.2/build\n"
     ]
    }
   ],
   "source": [
    "!{\"PATH=%s cmake .. -DGMX_BUILD_OWN_FFTW=ON -DREGRESSIONTEST_DOWNLOAD=ON -DGMX_OPENMP=ON -DGMX_GPU=ON -DCUDA_TOOLKIT_ROOT_DIR=/usr/local/cuda -DCMAKE_INSTALL_PREFIX=~/gromacs-2016.2\" % cleaned_path}"
   ]
  },
  {
   "cell_type": "code",
   "execution_count": 30,
   "metadata": {
    "collapsed": false
   },
   "outputs": [
    {
     "name": "stdout",
     "output_type": "stream",
     "text": [
      "[  1%] Built target fftwBuild\n",
      "[ 97%] Built target libgromacs\n",
      "[ 97%] Built target template\n",
      "[ 97%] Built target view_objlib\n",
      "[ 98%] Built target mdrun_objlib\n",
      "[100%] Built target gmx\n",
      "[100%] Built target mdrun_test_objlib\n"
     ]
    }
   ],
   "source": [
    "!{\"PATH=%s make -j 4\" % cleaned_path}"
   ]
  },
  {
   "cell_type": "code",
   "execution_count": 30,
   "metadata": {
    "collapsed": false
   },
   "outputs": [
    {
     "name": "stdout",
     "output_type": "stream",
     "text": [
      "-- The GROMACS-managed build of FFTW 3 will configure with the following optimizations: --enable-sse2;--enable-avx;--enable-avx2;--enable-avx512\n",
      "-- Configuring done\n",
      "-- Generating done\n",
      "-- Build files have been written to: /home/ubuntu/gromacs/gromacs-2016.2/build\n",
      "[  0%] Built target view_objlib\n",
      "[  0%] Built target fftwBuild\n",
      "[  0%] \u001b[32m\u001b[1mLinking CXX shared library ../../lib/libgromacs.so\u001b[0m\n",
      "[ 84%] Built target libgromacs\n",
      "[ 84%] Built target mdrun_objlib\n",
      "[ 84%] \u001b[32m\u001b[1mLinking CXX executable ../../bin/gmx\u001b[0m\n",
      "CMakeFiles/mdrun_objlib.dir/mdrun/runner.cpp.o: In function `gmx::mdrunner(gmx_hw_opt_t*, _IO_FILE*, t_commrec*, int, t_filenm const*, gmx_output_env_t const*, int, int, int*, int, int, float, float, char const*, float, char const*, char const*, char const*, char const*, int, long, int, int, int, int, int, int, float, float, float, int, unsigned long)':\n",
      "runner.cpp:(.text+0x2743): undefined reference to `std::__cxx11::basic_string<char, std::char_traits<char>, std::allocator<char> >::_M_create(unsigned long&, unsigned long)'\n",
      "runner.cpp:(.text+0x2c9b): undefined reference to `std::__cxx11::basic_string<char, std::char_traits<char>, std::allocator<char> >::_M_create(unsigned long&, unsigned long)'\n",
      "CMakeFiles/mdrun_objlib.dir/mdrun/runner.cpp.o: In function `std::__cxx11::basic_string<char, std::char_traits<char>, std::allocator<char> >::basic_string(char const*, std::allocator<char> const&) [clone .isra.28]':\n",
      "runner.cpp:(.text.unlikely+0x53): undefined reference to `std::__cxx11::basic_string<char, std::char_traits<char>, std::allocator<char> >::_M_create(unsigned long&, unsigned long)'\n",
      "CMakeFiles/mdrun_objlib.dir/mdrun/repl_ex.cpp.o: In function `std::__cxx11::basic_string<char, std::char_traits<char>, std::allocator<char> >::basic_string(char const*, std::allocator<char> const&) [clone .isra.34]':\n",
      "repl_ex.cpp:(.text.unlikely+0x53): undefined reference to `std::__cxx11::basic_string<char, std::char_traits<char>, std::allocator<char> >::_M_create(unsigned long&, unsigned long)'\n",
      "CMakeFiles/mdrun_objlib.dir/mdrun/resource-division.cpp.o: In function `std::__cxx11::basic_string<char, std::char_traits<char>, std::allocator<char> > gmx::formatAndJoin<__gnu_cxx::__normal_iterator<std::__cxx11::basic_string<char, std::char_traits<char>, std::allocator<char> > const*, std::vector<std::__cxx11::basic_string<char, std::char_traits<char>, std::allocator<char> >, std::allocator<std::__cxx11::basic_string<char, std::char_traits<char>, std::allocator<char> > > > >, gmx::IdentityFormatter>(__gnu_cxx::__normal_iterator<std::__cxx11::basic_string<char, std::char_traits<char>, std::allocator<char> > const*, std::vector<std::__cxx11::basic_string<char, std::char_traits<char>, std::allocator<char> >, std::allocator<std::__cxx11::basic_string<char, std::char_traits<char>, std::allocator<char> > > > >, __gnu_cxx::__normal_iterator<std::__cxx11::basic_string<char, std::char_traits<char>, std::allocator<char> > const*, std::vector<std::__cxx11::basic_string<char, std::char_traits<char>, std::allocator<char> >, std::allocator<std::__cxx11::basic_string<char, std::char_traits<char>, std::allocator<char> > > > >, char const*, gmx::IdentityFormatter const&)':\n",
      "resource-division.cpp:(.text._ZN3gmx13formatAndJoinIN9__gnu_cxx17__normal_iteratorIPKNSt7__cxx1112basic_stringIcSt11char_traitsIcESaIcEEESt6vectorIS8_SaIS8_EEEENS_17IdentityFormatterEEES8_T_SG_PKcRKT0_[_ZN3gmx13formatAndJoinIN9__gnu_cxx17__normal_iteratorIPKNSt7__cxx1112basic_stringIcSt11char_traitsIcESaIcEEESt6vectorIS8_SaIS8_EEEENS_17IdentityFormatterEEES8_T_SG_PKcRKT0_]+0x64): undefined reference to `std::__cxx11::basic_string<char, std::char_traits<char>, std::allocator<char> >::_M_append(char const*, unsigned long)'\n",
      "resource-division.cpp:(.text._ZN3gmx13formatAndJoinIN9__gnu_cxx17__normal_iteratorIPKNSt7__cxx1112basic_stringIcSt11char_traitsIcESaIcEEESt6vectorIS8_SaIS8_EEEENS_17IdentityFormatterEEES8_T_SG_PKcRKT0_[_ZN3gmx13formatAndJoinIN9__gnu_cxx17__normal_iteratorIPKNSt7__cxx1112basic_stringIcSt11char_traitsIcESaIcEEESt6vectorIS8_SaIS8_EEEENS_17IdentityFormatterEEES8_T_SG_PKcRKT0_]+0xc8): undefined reference to `std::__cxx11::basic_string<char, std::char_traits<char>, std::allocator<char> >::_M_append(char const*, unsigned long)'\n",
      "resource-division.cpp:(.text._ZN3gmx13formatAndJoinIN9__gnu_cxx17__normal_iteratorIPKNSt7__cxx1112basic_stringIcSt11char_traitsIcESaIcEEESt6vectorIS8_SaIS8_EEEENS_17IdentityFormatterEEES8_T_SG_PKcRKT0_[_ZN3gmx13formatAndJoinIN9__gnu_cxx17__normal_iteratorIPKNSt7__cxx1112basic_stringIcSt11char_traitsIcESaIcEEESt6vectorIS8_SaIS8_EEEENS_17IdentityFormatterEEES8_T_SG_PKcRKT0_]+0x125): undefined reference to `std::__cxx11::basic_string<char, std::char_traits<char>, std::allocator<char> >::_M_create(unsigned long&, unsigned long)'\n",
      "../../lib/libgromacs.so.2.2.0: undefined reference to `VTT for std::__cxx11::basic_istringstream<char, std::char_traits<char>, std::allocator<char> >'\n",
      "../../lib/libgromacs.so.2.2.0: undefined reference to `std::__cxx11::basic_string<char, std::char_traits<char>, std::allocator<char> >::find_first_not_of(char const*, unsigned long, unsigned long) const'\n",
      "../../lib/libgromacs.so.2.2.0: undefined reference to `std::__cxx11::basic_string<char, std::char_traits<char>, std::allocator<char> >::resize(unsigned long, char)'\n",
      "../../lib/libgromacs.so.2.2.0: undefined reference to `std::random_device::_M_init(std::__cxx11::basic_string<char, std::char_traits<char>, std::allocator<char> > const&)'\n",
      "../../lib/libgromacs.so.2.2.0: undefined reference to `std::__cxx11::basic_string<char, std::char_traits<char>, std::allocator<char> >::_M_erase(unsigned long, unsigned long)'\n",
      "../../lib/libgromacs.so.2.2.0: undefined reference to `std::__cxx11::basic_string<char, std::char_traits<char>, std::allocator<char> >::substr(unsigned long, unsigned long) const'\n",
      "../../lib/libgromacs.so.2.2.0: undefined reference to `std::__cxx11::basic_string<char, std::char_traits<char>, std::allocator<char> >::rfind(char, unsigned long) const'\n",
      "../../lib/libgromacs.so.2.2.0: undefined reference to `std::__cxx11::basic_string<char, std::char_traits<char>, std::allocator<char> >::find(char const*, unsigned long, unsigned long) const'\n",
      "../../lib/libgromacs.so.2.2.0: undefined reference to `std::__cxx11::basic_string<char, std::char_traits<char>, std::allocator<char> >::find_last_not_of(char, unsigned long) const'\n",
      "../../lib/libgromacs.so.2.2.0: undefined reference to `std::__cxx11::basic_string<char, std::char_traits<char>, std::allocator<char> >::append(char const*)'\n",
      "../../lib/libgromacs.so.2.2.0: undefined reference to `std::__cxx11::basic_string<char, std::char_traits<char>, std::allocator<char> >::assign(char const*)'\n",
      "../../lib/libgromacs.so.2.2.0: undefined reference to `std::runtime_error::runtime_error(std::__cxx11::basic_string<char, std::char_traits<char>, std::allocator<char> > const&)'\n",
      "../../lib/libgromacs.so.2.2.0: undefined reference to `vtable for std::__cxx11::basic_stringbuf<char, std::char_traits<char>, std::allocator<char> >'\n",
      "../../lib/libgromacs.so.2.2.0: undefined reference to `std::__cxx11::basic_string<char, std::char_traits<char>, std::allocator<char> >::_M_replace(unsigned long, unsigned long, char const*, unsigned long)'\n",
      "../../lib/libgromacs.so.2.2.0: undefined reference to `std::__cxx11::basic_string<char, std::char_traits<char>, std::allocator<char> >::_M_mutate(unsigned long, unsigned long, char const*, unsigned long)'\n",
      "../../lib/libgromacs.so.2.2.0: undefined reference to `std::__cxx11::basic_string<char, std::char_traits<char>, std::allocator<char> >::swap(std::__cxx11::basic_string<char, std::char_traits<char>, std::allocator<char> >&)'\n",
      "../../lib/libgromacs.so.2.2.0: undefined reference to `std::__cxx11::basic_string<char, std::char_traits<char>, std::allocator<char> >::find_last_not_of(char const*, unsigned long, unsigned long) const'\n",
      "../../lib/libgromacs.so.2.2.0: undefined reference to `vtable for std::__cxx11::basic_istringstream<char, std::char_traits<char>, std::allocator<char> >'\n",
      "../../lib/libgromacs.so.2.2.0: undefined reference to `std::__cxx11::basic_string<char, std::char_traits<char>, std::allocator<char> >::find_last_of(char const*, unsigned long, unsigned long) const'\n",
      "../../lib/libgromacs.so.2.2.0: undefined reference to `std::__throw_out_of_range_fmt(char const*, ...)'\n",
      "../../lib/libgromacs.so.2.2.0: undefined reference to `std::basic_istream<char, std::char_traits<char> >& std::getline<char, std::char_traits<char>, std::allocator<char> >(std::basic_istream<char, std::char_traits<char> >&, std::__cxx11::basic_string<char, std::char_traits<char>, std::allocator<char> >&, char)'\n",
      "../../lib/libgromacs.so.2.2.0: undefined reference to `std::__cxx11::basic_string<char, std::char_traits<char>, std::allocator<char> >::find_first_not_of(char, unsigned long) const'\n",
      "../../lib/libgromacs.so.2.2.0: undefined reference to `std::__cxx11::basic_string<char, std::char_traits<char>, std::allocator<char> >::compare(char const*) const'\n",
      "../../lib/libgromacs.so.2.2.0: undefined reference to `std::__cxx11::basic_string<char, std::char_traits<char>, std::allocator<char> >::reserve(unsigned long)'\n",
      "../../lib/libgromacs.so.2.2.0: undefined reference to `std::__cxx11::basic_istringstream<char, std::char_traits<char>, std::allocator<char> >::~basic_istringstream()'\n",
      "../../lib/libgromacs.so.2.2.0: undefined reference to `std::__cxx11::basic_string<char, std::char_traits<char>, std::allocator<char> >::compare(unsigned long, unsigned long, std::__cxx11::basic_string<char, std::char_traits<char>, std::allocator<char> > const&) const'\n",
      "../../lib/libgromacs.so.2.2.0: undefined reference to `std::__cxx11::basic_string<char, std::char_traits<char>, std::allocator<char> >::find_first_of(char const*, unsigned long, unsigned long) const'\n",
      "../../lib/libgromacs.so.2.2.0: undefined reference to `std::__cxx11::basic_stringbuf<char, std::char_traits<char>, std::allocator<char> >::_M_sync(char*, unsigned long, unsigned long)'\n",
      "../../lib/libgromacs.so.2.2.0: undefined reference to `std::__cxx11::basic_string<char, std::char_traits<char>, std::allocator<char> >::find(char, unsigned long) const'\n",
      "../../lib/libgromacs.so.2.2.0: undefined reference to `std::__cxx11::basic_string<char, std::char_traits<char>, std::allocator<char> >::_M_assign(std::__cxx11::basic_string<char, std::char_traits<char>, std::allocator<char> > const&)'\n",
      "../../lib/libgromacs.so.2.2.0: undefined reference to `std::__cxx11::basic_string<char, std::char_traits<char>, std::allocator<char> >::_M_construct(unsigned long, char)'\n",
      "../../lib/libgromacs.so.2.2.0: undefined reference to `std::__cxx11::basic_string<char, std::char_traits<char>, std::allocator<char> >::_M_replace_aux(unsigned long, unsigned long, unsigned long, char)'\n",
      "../../lib/libgromacs.so.2.2.0: undefined reference to `std::__cxx11::basic_string<char, std::char_traits<char>, std::allocator<char> >::compare(unsigned long, unsigned long, char const*) const'\n",
      "../../lib/libgromacs.so.2.2.0: undefined reference to `__cxa_throw_bad_array_new_length'\n",
      "collect2: error: ld returned 1 exit status\n",
      "src/programs/CMakeFiles/gmx.dir/build.make:149: recipe for target 'bin/gmx' failed\n",
      "make[3]: *** [bin/gmx] Error 1\n",
      "CMakeFiles/Makefile2:4086: recipe for target 'src/programs/CMakeFiles/gmx.dir/all' failed\n",
      "make[2]: *** [src/programs/CMakeFiles/gmx.dir/all] Error 2\n",
      "CMakeFiles/Makefile2:171: recipe for target 'CMakeFiles/check.dir/rule' failed\n",
      "make[1]: *** [CMakeFiles/check.dir/rule] Error 2\n",
      "Makefile:234: recipe for target 'check' failed\n",
      "make: *** [check] Error 2\n"
     ]
    }
   ],
   "source": [
    "!{\"PATH=%s make check\" % cleaned_path}"
   ]
  },
  {
   "cell_type": "code",
   "execution_count": null,
   "metadata": {
    "collapsed": true
   },
   "outputs": [],
   "source": [
    "!{\"PATH=%s make install\" % cleaned_path}"
   ]
  }
 ],
 "metadata": {
  "anaconda-cloud": {},
  "kernelspec": {
   "display_name": "Python [conda root]",
   "language": "python",
   "name": "conda-root-py"
  },
  "language_info": {
   "codemirror_mode": {
    "name": "ipython",
    "version": 2
   },
   "file_extension": ".py",
   "mimetype": "text/x-python",
   "name": "python",
   "nbconvert_exporter": "python",
   "pygments_lexer": "ipython2",
   "version": "2.7.12"
  }
 },
 "nbformat": 4,
 "nbformat_minor": 1
}
